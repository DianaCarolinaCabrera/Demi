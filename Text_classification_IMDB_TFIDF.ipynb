{
  "nbformat": 4,
  "nbformat_minor": 0,
  "metadata": {
    "colab": {
      "name": "Text classification IMDB - TFIDF.ipynb",
      "provenance": [],
      "collapsed_sections": [],
      "toc_visible": true,
      "authorship_tag": "ABX9TyOsjVBGFJjRs4vG2xoV6K3L",
      "include_colab_link": true
    },
    "kernelspec": {
      "name": "python3",
      "display_name": "Python 3"
    },
    "accelerator": "GPU"
  },
  "cells": [
    {
      "cell_type": "markdown",
      "metadata": {
        "id": "view-in-github",
        "colab_type": "text"
      },
      "source": [
        "<a href=\"https://colab.research.google.com/github/DianaCarolinaCabrera/DianaCarolinaCabrera.github.io/blob/master/Text_classification_IMDB_TFIDF.ipynb\" target=\"_parent\"><img src=\"https://colab.research.google.com/assets/colab-badge.svg\" alt=\"Open In Colab\"/></a>"
      ]
    },
    {
      "cell_type": "markdown",
      "metadata": {
        "id": "ULLyDuqUg3zg",
        "colab_type": "text"
      },
      "source": [
        "# Diana Carolina Cabrera Torres\n",
        "* Mechatronics Engineer\n",
        "* Master student Systems and Computing Engineering on Research modality\n",
        "* Passionate About Data Science And Quantum Computing\n",
        "\n",
        "# First challenge Machine Learning on text classification TFIDF\n",
        "---"
      ]
    },
    {
      "cell_type": "markdown",
      "metadata": {
        "id": "Y0yGxcc_hHvu",
        "colab_type": "text"
      },
      "source": [
        "Durante las vacaciones estuve participando en WWC Data Science Community como asistente, en donde, aprendí y reforcé conceptos de procesamiento de lenguaje natural, algunas imagenes de TFIDF son tomadas de los notebooks compartidos en la comunidad."
      ]
    },
    {
      "cell_type": "markdown",
      "metadata": {
        "id": "kiSSWDudgfSA",
        "colab_type": "text"
      },
      "source": [
        "### **Reminder: TF-IDF stands for “Term Frequency — Inverse Data Frequency”.** \n",
        "\n",
        "- Term Frequency (TF): gives us the frequency of the word in each document in the corpus. It is the ratio of number of times the word appears in a document compared to the total number of words in that document. It increases as the number of occurrences of that word within the document increases. Each document has its own tf. \n",
        "\n",
        "![TF](https://cdn-media-1.freecodecamp.org/images/1*HM0Vcdrx2RApOyjp_ZeW_Q.png)\n",
        "\n",
        "\n",
        "- Inverse Data Frequency (idf): used to calculate the weight of rare words across all documents in the corpus. The words that occur rarely in the corpus have a high IDF score. It is given by the equation below. \n",
        "\n",
        "![IDF](https://cdn-media-1.freecodecamp.org/images/1*A5YGwFpcTd0YTCdgoiHFUw.png)"
      ]
    },
    {
      "cell_type": "markdown",
      "metadata": {
        "id": "eUdtZdaGgtMh",
        "colab_type": "text"
      },
      "source": [
        "Combining these two we come up with the TF-IDF score (w) for a word in a document in the corpus. It is the product of tf and idf: \n",
        "\n",
        "![TF-IDF formula](https://cdn-media-1.freecodecamp.org/images/1*nSqHXwOIJ2fa_EFLTh5KYw.png)"
      ]
    },
    {
      "cell_type": "markdown",
      "metadata": {
        "id": "bNIc68qBiL4L",
        "colab_type": "text"
      },
      "source": [
        "![formula](https://cdn-media-1.freecodecamp.org/images/1*q2tRgjV_J-MLvnhwNAl0KQ.png)"
      ]
    },
    {
      "cell_type": "markdown",
      "metadata": {
        "id": "A8-ugIKbiYkH",
        "colab_type": "text"
      },
      "source": [
        "#### Let's automate this calculation process and utilize sklearn's built-in capabilities to calculate TF-IDF.\n",
        "\n",
        "Refer to documentation here: https://scikit-learn.org/stable/modules/generated/sklearn.feature_extraction.text.TfidfVectorizer.html#sklearn.feature_extraction.text.TfidfVectorizer"
      ]
    },
    {
      "cell_type": "markdown",
      "metadata": {
        "id": "X8umkEeKjC4b",
        "colab_type": "text"
      },
      "source": [
        "This is a common term weighting scheme in information retrieval, that has also found good use in document classification.\n",
        "\n",
        "###Goals \n",
        "\n",
        "\n",
        "\n",
        "> Scale down the impact of tokens that occur very frequently in a given corpus and that are hence empirically less informative\n",
        "\n",
        "\n",
        "\n",
        "![alt text](https://miro.medium.com/max/1200/1*V9ac4hLVyms79jl65Ym_Bw.jpeg)"
      ]
    },
    {
      "cell_type": "code",
      "metadata": {
        "id": "oIqvs2BromBU",
        "colab_type": "code",
        "colab": {
          "base_uri": "https://localhost:8080/",
          "height": 35
        },
        "outputId": "6add918b-f0fb-4bfb-f749-928285827cdd"
      },
      "source": [
        "pwd"
      ],
      "execution_count": 1,
      "outputs": [
        {
          "output_type": "execute_result",
          "data": {
            "application/vnd.google.colaboratory.intrinsic+json": {
              "type": "string"
            },
            "text/plain": [
              "'/content'"
            ]
          },
          "metadata": {
            "tags": []
          },
          "execution_count": 1
        }
      ]
    },
    {
      "cell_type": "code",
      "metadata": {
        "id": "NirpA5ULotH_",
        "colab_type": "code",
        "colab": {
          "base_uri": "https://localhost:8080/",
          "height": 34
        },
        "outputId": "80dd9f01-5af7-4ed2-a193-5698fd02d55f"
      },
      "source": [
        "ls"
      ],
      "execution_count": 2,
      "outputs": [
        {
          "output_type": "stream",
          "text": [
            "\u001b[0m\u001b[01;34msample_data\u001b[0m/\n"
          ],
          "name": "stdout"
        }
      ]
    },
    {
      "cell_type": "markdown",
      "metadata": {
        "id": "dtDK0l57q9dV",
        "colab_type": "text"
      },
      "source": [
        "## Load dataset + describe data"
      ]
    },
    {
      "cell_type": "code",
      "metadata": {
        "id": "bAYrqPWoq2dc",
        "colab_type": "code",
        "colab": {
          "base_uri": "https://localhost:8080/",
          "height": 153
        },
        "outputId": "b122c59d-988a-4262-ae48-5f1a3a816614"
      },
      "source": [
        "from time import time\n",
        "import pandas as pd\n",
        "import numpy as np\n",
        "import re\n",
        "import sys\n",
        "import csv\n",
        "csv.field_size_limit(sys.maxsize)\n",
        "\n",
        "import matplotlib.pyplot as plt\n",
        "from matplotlib import rcParams\n",
        "import seaborn as sns\n",
        "\n",
        "import nltk\n",
        "nltk.download('punkt')\n",
        "nltk.download('averaged_perceptron_tagger')\n",
        "nltk.download('stopwords')\n",
        "stopwords = nltk.corpus.stopwords.words('english')\n",
        "from nltk.corpus import stopwords\n",
        "from nltk.tokenize import word_tokenize\n",
        "\n",
        "import itertools\n",
        "import datetime\n",
        "\n",
        "import pprint\n",
        "import warnings\n",
        "warnings.filterwarnings('ignore')\n",
        "\n",
        "from sklearn.feature_extraction.text import CountVectorizer\n",
        "from sklearn.naive_bayes import MultinomialNB\n",
        "from sklearn.feature_extraction.text import TfidfTransformer\n",
        "from sklearn.ensemble import RandomForestClassifier, ExtraTreesClassifier,AdaBoostClassifier\n",
        "from sklearn.tree import DecisionTreeClassifier"
      ],
      "execution_count": 28,
      "outputs": [
        {
          "output_type": "stream",
          "text": [
            "[nltk_data] Downloading package punkt to /root/nltk_data...\n",
            "[nltk_data]   Package punkt is already up-to-date!\n",
            "[nltk_data] Downloading package averaged_perceptron_tagger to\n",
            "[nltk_data]     /root/nltk_data...\n",
            "[nltk_data]   Package averaged_perceptron_tagger is already up-to-\n",
            "[nltk_data]       date!\n",
            "[nltk_data] Downloading package stopwords to /root/nltk_data...\n",
            "[nltk_data]   Package stopwords is already up-to-date!\n"
          ],
          "name": "stdout"
        }
      ]
    },
    {
      "cell_type": "code",
      "metadata": {
        "id": "adDWWqqIruFX",
        "colab_type": "code",
        "colab": {
          "base_uri": "https://localhost:8080/",
          "height": 238
        },
        "outputId": "efcf28bf-6976-4015-e9c9-9a78d3544d2b"
      },
      "source": [
        "train = pd.read_csv('/content/sample_data/IMDB.csv', header=0, lineterminator='\\n')\n",
        "train = train.applymap(lambda x: x.strip() if isinstance(x, str) else x)\n",
        "\n",
        "nRow, nCol = train.shape\n",
        "print(f'There are {nRow} rows and {nCol} columns in the training set')\n",
        "\n",
        "# Removing empty rows from csv \n",
        "train.dropna(axis=0, how='all',inplace=True)\n",
        "nRow, nCol = train.shape\n",
        "print(f'There are {nRow} rows and {nCol} columns in the training set after removing empty rows')\n",
        "\n",
        "train.head()"
      ],
      "execution_count": 29,
      "outputs": [
        {
          "output_type": "stream",
          "text": [
            "There are 50000 rows and 2 columns in the training set\n",
            "There are 50000 rows and 2 columns in the training set after removing empty rows\n"
          ],
          "name": "stdout"
        },
        {
          "output_type": "execute_result",
          "data": {
            "text/html": [
              "<div>\n",
              "<style scoped>\n",
              "    .dataframe tbody tr th:only-of-type {\n",
              "        vertical-align: middle;\n",
              "    }\n",
              "\n",
              "    .dataframe tbody tr th {\n",
              "        vertical-align: top;\n",
              "    }\n",
              "\n",
              "    .dataframe thead th {\n",
              "        text-align: right;\n",
              "    }\n",
              "</style>\n",
              "<table border=\"1\" class=\"dataframe\">\n",
              "  <thead>\n",
              "    <tr style=\"text-align: right;\">\n",
              "      <th></th>\n",
              "      <th>review</th>\n",
              "      <th>sentiment</th>\n",
              "    </tr>\n",
              "  </thead>\n",
              "  <tbody>\n",
              "    <tr>\n",
              "      <th>0</th>\n",
              "      <td>One of the other reviewers has mentioned that ...</td>\n",
              "      <td>1</td>\n",
              "    </tr>\n",
              "    <tr>\n",
              "      <th>1</th>\n",
              "      <td>A wonderful little production. &lt;br /&gt;&lt;br /&gt;The...</td>\n",
              "      <td>1</td>\n",
              "    </tr>\n",
              "    <tr>\n",
              "      <th>2</th>\n",
              "      <td>I thought this was a wonderful way to spend ti...</td>\n",
              "      <td>1</td>\n",
              "    </tr>\n",
              "    <tr>\n",
              "      <th>3</th>\n",
              "      <td>Basically there's a family where a little boy ...</td>\n",
              "      <td>0</td>\n",
              "    </tr>\n",
              "    <tr>\n",
              "      <th>4</th>\n",
              "      <td>Petter Mattei's \"Love in the Time of Money\" is...</td>\n",
              "      <td>1</td>\n",
              "    </tr>\n",
              "  </tbody>\n",
              "</table>\n",
              "</div>"
            ],
            "text/plain": [
              "                                              review  sentiment\n",
              "0  One of the other reviewers has mentioned that ...          1\n",
              "1  A wonderful little production. <br /><br />The...          1\n",
              "2  I thought this was a wonderful way to spend ti...          1\n",
              "3  Basically there's a family where a little boy ...          0\n",
              "4  Petter Mattei's \"Love in the Time of Money\" is...          1"
            ]
          },
          "metadata": {
            "tags": []
          },
          "execution_count": 29
        }
      ]
    },
    {
      "cell_type": "code",
      "metadata": {
        "id": "LexmoV0-vTfz",
        "colab_type": "code",
        "colab": {
          "base_uri": "https://localhost:8080/",
          "height": 170
        },
        "outputId": "7ecad8e4-3a8f-46e8-e135-8cae4242486d"
      },
      "source": [
        "train.info()"
      ],
      "execution_count": 30,
      "outputs": [
        {
          "output_type": "stream",
          "text": [
            "<class 'pandas.core.frame.DataFrame'>\n",
            "Int64Index: 50000 entries, 0 to 49999\n",
            "Data columns (total 2 columns):\n",
            " #   Column     Non-Null Count  Dtype \n",
            "---  ------     --------------  ----- \n",
            " 0   review     50000 non-null  object\n",
            " 1   sentiment  50000 non-null  int64 \n",
            "dtypes: int64(1), object(1)\n",
            "memory usage: 1.1+ MB\n"
          ],
          "name": "stdout"
        }
      ]
    },
    {
      "cell_type": "code",
      "metadata": {
        "id": "eyoyYkCgvV-s",
        "colab_type": "code",
        "colab": {
          "base_uri": "https://localhost:8080/",
          "height": 68
        },
        "outputId": "1d75418e-447a-4752-a310-0a0d38a6f673"
      },
      "source": [
        "train.isnull().sum()"
      ],
      "execution_count": 31,
      "outputs": [
        {
          "output_type": "execute_result",
          "data": {
            "text/plain": [
              "review       0\n",
              "sentiment    0\n",
              "dtype: int64"
            ]
          },
          "metadata": {
            "tags": []
          },
          "execution_count": 31
        }
      ]
    },
    {
      "cell_type": "markdown",
      "metadata": {
        "id": "Xe8Fqonyzq6-",
        "colab_type": "text"
      },
      "source": [
        "#### Noise Cleaning"
      ]
    },
    {
      "cell_type": "markdown",
      "metadata": {
        "id": "b44O-V5pz-gU",
        "colab_type": "text"
      },
      "source": [
        "\n",
        "> Regex explanation:\n",
        "1.   [^] matches everything but everything inside the blockquotes\n",
        "2.   \\w matches any word character (equal to [a-zA-Z0-9_])\n",
        "3.   \\d matches a digit (equal to [0-9])\n",
        "4.   \\s matches any whitespace character (equal to [\\r\\n\\t\\f\\v ])\n",
        "5.   \\' matches the character ' literally (case sensitive)\n",
        "6.   '+' matches between one and unlimited times, as many times as possible, giving back as needed"
      ]
    },
    {
      "cell_type": "code",
      "metadata": {
        "id": "FksERCQxwsTH",
        "colab_type": "code",
        "colab": {
          "base_uri": "https://localhost:8080/",
          "height": 204
        },
        "outputId": "8e651214-81ea-42e3-e2d5-ed16c8374841"
      },
      "source": [
        "# Noise Cleaning - spacing, special characters, lowercasing \n",
        "import regex as re\n",
        "\n",
        "train['review'] = train['review'].str.lower()\n",
        "train['review'] = train['review'].apply(lambda x: re.sub(r'[^\\w\\d\\s\\']+', '', x))\n",
        "\n",
        "train.head()"
      ],
      "execution_count": 32,
      "outputs": [
        {
          "output_type": "execute_result",
          "data": {
            "text/html": [
              "<div>\n",
              "<style scoped>\n",
              "    .dataframe tbody tr th:only-of-type {\n",
              "        vertical-align: middle;\n",
              "    }\n",
              "\n",
              "    .dataframe tbody tr th {\n",
              "        vertical-align: top;\n",
              "    }\n",
              "\n",
              "    .dataframe thead th {\n",
              "        text-align: right;\n",
              "    }\n",
              "</style>\n",
              "<table border=\"1\" class=\"dataframe\">\n",
              "  <thead>\n",
              "    <tr style=\"text-align: right;\">\n",
              "      <th></th>\n",
              "      <th>review</th>\n",
              "      <th>sentiment</th>\n",
              "    </tr>\n",
              "  </thead>\n",
              "  <tbody>\n",
              "    <tr>\n",
              "      <th>0</th>\n",
              "      <td>one of the other reviewers has mentioned that ...</td>\n",
              "      <td>1</td>\n",
              "    </tr>\n",
              "    <tr>\n",
              "      <th>1</th>\n",
              "      <td>a wonderful little production br br the filmin...</td>\n",
              "      <td>1</td>\n",
              "    </tr>\n",
              "    <tr>\n",
              "      <th>2</th>\n",
              "      <td>i thought this was a wonderful way to spend ti...</td>\n",
              "      <td>1</td>\n",
              "    </tr>\n",
              "    <tr>\n",
              "      <th>3</th>\n",
              "      <td>basically there's a family where a little boy ...</td>\n",
              "      <td>0</td>\n",
              "    </tr>\n",
              "    <tr>\n",
              "      <th>4</th>\n",
              "      <td>petter mattei's love in the time of money is a...</td>\n",
              "      <td>1</td>\n",
              "    </tr>\n",
              "  </tbody>\n",
              "</table>\n",
              "</div>"
            ],
            "text/plain": [
              "                                              review  sentiment\n",
              "0  one of the other reviewers has mentioned that ...          1\n",
              "1  a wonderful little production br br the filmin...          1\n",
              "2  i thought this was a wonderful way to spend ti...          1\n",
              "3  basically there's a family where a little boy ...          0\n",
              "4  petter mattei's love in the time of money is a...          1"
            ]
          },
          "metadata": {
            "tags": []
          },
          "execution_count": 32
        }
      ]
    },
    {
      "cell_type": "code",
      "metadata": {
        "id": "KQ7aIxRJ2NuS",
        "colab_type": "code",
        "colab": {
          "base_uri": "https://localhost:8080/",
          "height": 204
        },
        "outputId": "8feda287-a8ea-404a-daa7-156a5ba1487e"
      },
      "source": [
        "#nltk tokenization\n",
        "\n",
        "train['total_tokenize'] = train['review'].apply(word_tokenize)\n",
        "train.head()"
      ],
      "execution_count": 33,
      "outputs": [
        {
          "output_type": "execute_result",
          "data": {
            "text/html": [
              "<div>\n",
              "<style scoped>\n",
              "    .dataframe tbody tr th:only-of-type {\n",
              "        vertical-align: middle;\n",
              "    }\n",
              "\n",
              "    .dataframe tbody tr th {\n",
              "        vertical-align: top;\n",
              "    }\n",
              "\n",
              "    .dataframe thead th {\n",
              "        text-align: right;\n",
              "    }\n",
              "</style>\n",
              "<table border=\"1\" class=\"dataframe\">\n",
              "  <thead>\n",
              "    <tr style=\"text-align: right;\">\n",
              "      <th></th>\n",
              "      <th>review</th>\n",
              "      <th>sentiment</th>\n",
              "      <th>total_tokenize</th>\n",
              "    </tr>\n",
              "  </thead>\n",
              "  <tbody>\n",
              "    <tr>\n",
              "      <th>0</th>\n",
              "      <td>one of the other reviewers has mentioned that ...</td>\n",
              "      <td>1</td>\n",
              "      <td>[one, of, the, other, reviewers, has, mentione...</td>\n",
              "    </tr>\n",
              "    <tr>\n",
              "      <th>1</th>\n",
              "      <td>a wonderful little production br br the filmin...</td>\n",
              "      <td>1</td>\n",
              "      <td>[a, wonderful, little, production, br, br, the...</td>\n",
              "    </tr>\n",
              "    <tr>\n",
              "      <th>2</th>\n",
              "      <td>i thought this was a wonderful way to spend ti...</td>\n",
              "      <td>1</td>\n",
              "      <td>[i, thought, this, was, a, wonderful, way, to,...</td>\n",
              "    </tr>\n",
              "    <tr>\n",
              "      <th>3</th>\n",
              "      <td>basically there's a family where a little boy ...</td>\n",
              "      <td>0</td>\n",
              "      <td>[basically, there, 's, a, family, where, a, li...</td>\n",
              "    </tr>\n",
              "    <tr>\n",
              "      <th>4</th>\n",
              "      <td>petter mattei's love in the time of money is a...</td>\n",
              "      <td>1</td>\n",
              "      <td>[petter, mattei, 's, love, in, the, time, of, ...</td>\n",
              "    </tr>\n",
              "  </tbody>\n",
              "</table>\n",
              "</div>"
            ],
            "text/plain": [
              "                                              review  ...                                     total_tokenize\n",
              "0  one of the other reviewers has mentioned that ...  ...  [one, of, the, other, reviewers, has, mentione...\n",
              "1  a wonderful little production br br the filmin...  ...  [a, wonderful, little, production, br, br, the...\n",
              "2  i thought this was a wonderful way to spend ti...  ...  [i, thought, this, was, a, wonderful, way, to,...\n",
              "3  basically there's a family where a little boy ...  ...  [basically, there, 's, a, family, where, a, li...\n",
              "4  petter mattei's love in the time of money is a...  ...  [petter, mattei, 's, love, in, the, time, of, ...\n",
              "\n",
              "[5 rows x 3 columns]"
            ]
          },
          "metadata": {
            "tags": []
          },
          "execution_count": 33
        }
      ]
    },
    {
      "cell_type": "code",
      "metadata": {
        "id": "A7oHp23qz44j",
        "colab_type": "code",
        "colab": {
          "base_uri": "https://localhost:8080/",
          "height": 51
        },
        "outputId": "38198501-c903-4904-f531-03a934ae0584"
      },
      "source": [
        "# initializing Stop words libraries\n",
        "\n",
        "nltk.download('stopwords')\n",
        "from nltk.corpus import stopwords\n",
        "stop_words = set(stopwords.words('english'))"
      ],
      "execution_count": 34,
      "outputs": [
        {
          "output_type": "stream",
          "text": [
            "[nltk_data] Downloading package stopwords to /root/nltk_data...\n",
            "[nltk_data]   Package stopwords is already up-to-date!\n"
          ],
          "name": "stdout"
        }
      ]
    },
    {
      "cell_type": "markdown",
      "metadata": {
        "id": "oIg1JPxN0RnL",
        "colab_type": "text"
      },
      "source": [
        "#### Visualizations"
      ]
    },
    {
      "cell_type": "code",
      "metadata": {
        "id": "prfGU6eH0Oil",
        "colab_type": "code",
        "colab": {}
      },
      "source": [
        "# Before removing checking occurances of stopwords in article content\n",
        "\n",
        "%matplotlib inline\n",
        "from matplotlib import pyplot as plt\n",
        "\n",
        "def plot_top_stopwords_barchart(text):\n",
        "    stop=set(stopwords.words('english'))\n",
        "    \n",
        "    new= text.str.split()\n",
        "    new=new.values.tolist()\n",
        "    corpus=[word for i in new for word in i]\n",
        "    from collections import defaultdict\n",
        "    dic=defaultdict(int)\n",
        "    for word in corpus:\n",
        "        if word in stop:\n",
        "            dic[word]+=1\n",
        "            \n",
        "    top=sorted(dic.items(), key=lambda x:x[1],reverse=True)[:10]\n",
        "    x,y=zip(*top)\n",
        "    plt.figure(figsize=(10,10))\n",
        "    plt.bar(x,y)"
      ],
      "execution_count": 35,
      "outputs": []
    },
    {
      "cell_type": "code",
      "metadata": {
        "id": "_nXawbqX0eb7",
        "colab_type": "code",
        "colab": {
          "base_uri": "https://localhost:8080/",
          "height": 592
        },
        "outputId": "66aa821b-1296-4871-dff8-4eabc5d961e6"
      },
      "source": [
        "plot_top_stopwords_barchart(train['review'])"
      ],
      "execution_count": 36,
      "outputs": [
        {
          "output_type": "display_data",
          "data": {
            "image/png": "[encoded data removed]",
            "text/plain": [
              "<Figure size 720x720 with 1 Axes>"
            ]
          },
          "metadata": {
            "tags": [],
            "needs_background": "light"
          }
        }
      ]
    },
    {
      "cell_type": "code",
      "metadata": {
        "id": "M4OW770z0k2X",
        "colab_type": "code",
        "colab": {}
      },
      "source": [
        "import seaborn as sns\n",
        "from collections import  Counter\n",
        "\n",
        "def plot_top_non_stopwords_barchart(text):\n",
        "    stop=set(stopwords.words('english'))\n",
        "    \n",
        "    new= text.str.split()\n",
        "    new=new.values.tolist()\n",
        "    corpus=[word for i in new for word in i]\n",
        "\n",
        "    counter=Counter(corpus)\n",
        "    most=counter.most_common()\n",
        "    x, y=[], []\n",
        "    for word,count in most[:50]:\n",
        "        if (word not in stop):\n",
        "            x.append(word)\n",
        "            y.append(count)\n",
        "    plt.figure(figsize=(10,10))\n",
        "    sns.barplot(x=y,y=x)\n"
      ],
      "execution_count": 37,
      "outputs": []
    },
    {
      "cell_type": "code",
      "metadata": {
        "id": "Uz_6VejM0tx0",
        "colab_type": "code",
        "colab": {
          "base_uri": "https://localhost:8080/",
          "height": 592
        },
        "outputId": "6bf5be27-2f8b-4af3-ff0a-2be71e1f0e13"
      },
      "source": [
        "plot_top_non_stopwords_barchart(train['review'])"
      ],
      "execution_count": 38,
      "outputs": [
        {
          "output_type": "display_data",
          "data": {
            "image/png": "[encoded data removed]",
            "text/plain": [
              "<Figure size 720x720 with 1 Axes>"
            ]
          },
          "metadata": {
            "tags": [],
            "needs_background": "light"
          }
        }
      ]
    },
    {
      "cell_type": "markdown",
      "metadata": {
        "id": "lOru7zEtOYsV",
        "colab_type": "text"
      },
      "source": [
        "#### Remove stopwords"
      ]
    },
    {
      "cell_type": "code",
      "metadata": {
        "id": "WRxsJH-MODDP",
        "colab_type": "code",
        "colab": {
          "base_uri": "https://localhost:8080/",
          "height": 289
        },
        "outputId": "ae0a6dde-9f09-4f74-e3bc-690ebf16bc1d"
      },
      "source": [
        "# Now we remove stopwords \n",
        "\n",
        "train['total_tokenize'] = train['total_tokenize'].apply(lambda x: [word for word in x if word not in stop_words])\n",
        "train['total_tokenize_join'] = [' '.join(map(str, l)) for l in train['total_tokenize']]\n",
        "\n",
        "train.head()"
      ],
      "execution_count": 39,
      "outputs": [
        {
          "output_type": "execute_result",
          "data": {
            "text/html": [
              "<div>\n",
              "<style scoped>\n",
              "    .dataframe tbody tr th:only-of-type {\n",
              "        vertical-align: middle;\n",
              "    }\n",
              "\n",
              "    .dataframe tbody tr th {\n",
              "        vertical-align: top;\n",
              "    }\n",
              "\n",
              "    .dataframe thead th {\n",
              "        text-align: right;\n",
              "    }\n",
              "</style>\n",
              "<table border=\"1\" class=\"dataframe\">\n",
              "  <thead>\n",
              "    <tr style=\"text-align: right;\">\n",
              "      <th></th>\n",
              "      <th>review</th>\n",
              "      <th>sentiment</th>\n",
              "      <th>total_tokenize</th>\n",
              "      <th>total_tokenize_join</th>\n",
              "    </tr>\n",
              "  </thead>\n",
              "  <tbody>\n",
              "    <tr>\n",
              "      <th>0</th>\n",
              "      <td>one of the other reviewers has mentioned that ...</td>\n",
              "      <td>1</td>\n",
              "      <td>[one, reviewers, mentioned, watching, 1, oz, e...</td>\n",
              "      <td>one reviewers mentioned watching 1 oz episode ...</td>\n",
              "    </tr>\n",
              "    <tr>\n",
              "      <th>1</th>\n",
              "      <td>a wonderful little production br br the filmin...</td>\n",
              "      <td>1</td>\n",
              "      <td>[wonderful, little, production, br, br, filmin...</td>\n",
              "      <td>wonderful little production br br filming tech...</td>\n",
              "    </tr>\n",
              "    <tr>\n",
              "      <th>2</th>\n",
              "      <td>i thought this was a wonderful way to spend ti...</td>\n",
              "      <td>1</td>\n",
              "      <td>[thought, wonderful, way, spend, time, hot, su...</td>\n",
              "      <td>thought wonderful way spend time hot summer we...</td>\n",
              "    </tr>\n",
              "    <tr>\n",
              "      <th>3</th>\n",
              "      <td>basically there's a family where a little boy ...</td>\n",
              "      <td>0</td>\n",
              "      <td>[basically, 's, family, little, boy, jake, thi...</td>\n",
              "      <td>basically 's family little boy jake thinks 's ...</td>\n",
              "    </tr>\n",
              "    <tr>\n",
              "      <th>4</th>\n",
              "      <td>petter mattei's love in the time of money is a...</td>\n",
              "      <td>1</td>\n",
              "      <td>[petter, mattei, 's, love, time, money, visual...</td>\n",
              "      <td>petter mattei 's love time money visually stun...</td>\n",
              "    </tr>\n",
              "  </tbody>\n",
              "</table>\n",
              "</div>"
            ],
            "text/plain": [
              "                                              review  ...                                total_tokenize_join\n",
              "0  one of the other reviewers has mentioned that ...  ...  one reviewers mentioned watching 1 oz episode ...\n",
              "1  a wonderful little production br br the filmin...  ...  wonderful little production br br filming tech...\n",
              "2  i thought this was a wonderful way to spend ti...  ...  thought wonderful way spend time hot summer we...\n",
              "3  basically there's a family where a little boy ...  ...  basically 's family little boy jake thinks 's ...\n",
              "4  petter mattei's love in the time of money is a...  ...  petter mattei 's love time money visually stun...\n",
              "\n",
              "[5 rows x 4 columns]"
            ]
          },
          "metadata": {
            "tags": []
          },
          "execution_count": 39
        }
      ]
    },
    {
      "cell_type": "code",
      "metadata": {
        "id": "BZe7W6bp0y3d",
        "colab_type": "code",
        "colab": {}
      },
      "source": [
        "# Let's evaluate the POS tags for our train set data\n",
        "tagged_stanzas_train = []\n",
        "tagged_train = []\n",
        "\n",
        "for word in train['total_tokenize']:\n",
        "  tagged_word = nltk.pos_tag(word)\n",
        "  tagged_stanzas_train.append(tagged_word)\n",
        "\n",
        "# This format is needed for below visualizer as in takes only two values. If you skip this format, it might give you - \"too many values to unpack error\" \n",
        "tagged_train.append(tagged_stanzas_train)"
      ],
      "execution_count": 40,
      "outputs": []
    },
    {
      "cell_type": "markdown",
      "metadata": {
        "id": "JX_2H3JI28TC",
        "colab_type": "text"
      },
      "source": [
        "#### Yellow Brick: POS Visualizer"
      ]
    },
    {
      "cell_type": "code",
      "metadata": {
        "id": "Yy-o08xb2466",
        "colab_type": "code",
        "colab": {
          "base_uri": "https://localhost:8080/",
          "height": 343
        },
        "outputId": "acd0dd5c-54d3-45e1-a94b-f78efaaa6b00"
      },
      "source": [
        "# Yellow Brick is a POS visualizer - https://github.com/DistrictDataLabs/yellowbrick/blob/master/docs/api/text/postag.rst\n",
        "# You may need to reload the workbook to activate it. In that case, re-run all cells again from the beginning \n",
        "\n",
        "!pip install -U yellowbrick"
      ],
      "execution_count": 17,
      "outputs": [
        {
          "output_type": "stream",
          "text": [
            "Collecting yellowbrick\n",
            "\u001b[?25l  Downloading https://files.pythonhosted.org/packages/13/95/a14e4fdfb8b1c8753bbe74a626e910a98219ef9c87c6763585bbd30d84cf/yellowbrick-1.1-py3-none-any.whl (263kB)\n",
            "\r\u001b[K     |█▎                              | 10kB 26.4MB/s eta 0:00:01\r\u001b[K     |██▌                             | 20kB 6.5MB/s eta 0:00:01\r\u001b[K     |███▊                            | 30kB 7.5MB/s eta 0:00:01\r\u001b[K     |█████                           | 40kB 8.3MB/s eta 0:00:01\r\u001b[K     |██████▏                         | 51kB 7.1MB/s eta 0:00:01\r\u001b[K     |███████▌                        | 61kB 7.8MB/s eta 0:00:01\r\u001b[K     |████████▊                       | 71kB 8.2MB/s eta 0:00:01\r\u001b[K     |██████████                      | 81kB 8.8MB/s eta 0:00:01\r\u001b[K     |███████████▏                    | 92kB 8.3MB/s eta 0:00:01\r\u001b[K     |████████████▍                   | 102kB 8.5MB/s eta 0:00:01\r\u001b[K     |█████████████▊                  | 112kB 8.5MB/s eta 0:00:01\r\u001b[K     |███████████████                 | 122kB 8.5MB/s eta 0:00:01\r\u001b[K     |████████████████▏               | 133kB 8.5MB/s eta 0:00:01\r\u001b[K     |█████████████████▍              | 143kB 8.5MB/s eta 0:00:01\r\u001b[K     |██████████████████▋             | 153kB 8.5MB/s eta 0:00:01\r\u001b[K     |███████████████████▉            | 163kB 8.5MB/s eta 0:00:01\r\u001b[K     |█████████████████████▏          | 174kB 8.5MB/s eta 0:00:01\r\u001b[K     |██████████████████████▍         | 184kB 8.5MB/s eta 0:00:01\r\u001b[K     |███████████████████████▋        | 194kB 8.5MB/s eta 0:00:01\r\u001b[K     |████████████████████████▉       | 204kB 8.5MB/s eta 0:00:01\r\u001b[K     |██████████████████████████      | 215kB 8.5MB/s eta 0:00:01\r\u001b[K     |███████████████████████████▍    | 225kB 8.5MB/s eta 0:00:01\r\u001b[K     |████████████████████████████▋   | 235kB 8.5MB/s eta 0:00:01\r\u001b[K     |█████████████████████████████▉  | 245kB 8.5MB/s eta 0:00:01\r\u001b[K     |███████████████████████████████ | 256kB 8.5MB/s eta 0:00:01\r\u001b[K     |████████████████████████████████| 266kB 8.5MB/s \n",
            "\u001b[?25hRequirement already satisfied, skipping upgrade: numpy>=1.13.0 in /usr/local/lib/python3.6/dist-packages (from yellowbrick) (1.18.5)\n",
            "Requirement already satisfied, skipping upgrade: scipy>=1.0.0 in /usr/local/lib/python3.6/dist-packages (from yellowbrick) (1.4.1)\n",
            "Requirement already satisfied, skipping upgrade: scikit-learn>=0.20 in /usr/local/lib/python3.6/dist-packages (from yellowbrick) (0.22.2.post1)\n",
            "Requirement already satisfied, skipping upgrade: matplotlib!=3.0.0,>=2.0.2 in /usr/local/lib/python3.6/dist-packages (from yellowbrick) (3.2.2)\n",
            "Requirement already satisfied, skipping upgrade: cycler>=0.10.0 in /usr/local/lib/python3.6/dist-packages (from yellowbrick) (0.10.0)\n",
            "Requirement already satisfied, skipping upgrade: joblib>=0.11 in /usr/local/lib/python3.6/dist-packages (from scikit-learn>=0.20->yellowbrick) (0.16.0)\n",
            "Requirement already satisfied, skipping upgrade: python-dateutil>=2.1 in /usr/local/lib/python3.6/dist-packages (from matplotlib!=3.0.0,>=2.0.2->yellowbrick) (2.8.1)\n",
            "Requirement already satisfied, skipping upgrade: kiwisolver>=1.0.1 in /usr/local/lib/python3.6/dist-packages (from matplotlib!=3.0.0,>=2.0.2->yellowbrick) (1.2.0)\n",
            "Requirement already satisfied, skipping upgrade: pyparsing!=2.0.4,!=2.1.2,!=2.1.6,>=2.0.1 in /usr/local/lib/python3.6/dist-packages (from matplotlib!=3.0.0,>=2.0.2->yellowbrick) (2.4.7)\n",
            "Requirement already satisfied, skipping upgrade: six in /usr/local/lib/python3.6/dist-packages (from cycler>=0.10.0->yellowbrick) (1.15.0)\n",
            "Installing collected packages: yellowbrick\n",
            "  Found existing installation: yellowbrick 0.9.1\n",
            "    Uninstalling yellowbrick-0.9.1:\n",
            "      Successfully uninstalled yellowbrick-0.9.1\n",
            "Successfully installed yellowbrick-1.1\n"
          ],
          "name": "stdout"
        }
      ]
    },
    {
      "cell_type": "code",
      "metadata": {
        "id": "5_qBHt7v3BBA",
        "colab_type": "code",
        "colab": {
          "base_uri": "https://localhost:8080/",
          "height": 952
        },
        "outputId": "954642a0-e6e4-4fcd-9fd1-53cfa75f978c"
      },
      "source": [
        "# Create the visualizer for train test\n",
        "\n",
        "from yellowbrick.text import PosTagVisualizer\n",
        "plt.figure(figsize=(15,15))\n",
        "viz = PosTagVisualizer()\n",
        "viz.fit(tagged_train)\n",
        "viz.show()"
      ],
      "execution_count": 41,
      "outputs": [
        {
          "output_type": "display_data",
          "data": {
            "image/png": "[encoded data removed]",
            "text/plain": [
              "<Figure size 1080x1080 with 1 Axes>"
            ]
          },
          "metadata": {
            "tags": [],
            "needs_background": "light"
          }
        },
        {
          "output_type": "execute_result",
          "data": {
            "text/plain": [
              "<matplotlib.axes._subplots.AxesSubplot at 0x7fc4162e6fd0>"
            ]
          },
          "metadata": {
            "tags": []
          },
          "execution_count": 41
        }
      ]
    },
    {
      "cell_type": "markdown",
      "metadata": {
        "id": "uez0LVhw3RxK",
        "colab_type": "text"
      },
      "source": [
        "Some examples of POS Tags (via Universal Tagger)\n",
        "\n",
        "Refer: http://www.nltk.org/book/ch05.html\n",
        "\n",
        "![tagset](https://camo.githubusercontent.com/515359c32d2839f79bc166c07ff96fb70a0f82e5/68747470733a2f2f6d69726f2e6d656469756d2e636f6d2f6d61782f3730302f312a62444d64712d457061417232664c544e38344c6a67672e706e67)"
      ]
    },
    {
      "cell_type": "markdown",
      "metadata": {
        "id": "eoYzWGvK3guA",
        "colab_type": "text"
      },
      "source": [
        "## Text Classification"
      ]
    },
    {
      "cell_type": "code",
      "metadata": {
        "id": "Jnk_Q9Sa3RBU",
        "colab_type": "code",
        "colab": {
          "base_uri": "https://localhost:8080/",
          "height": 68
        },
        "outputId": "2e76f36d-d674-49ad-df26-4f43bf51ddbb"
      },
      "source": [
        "# Now let's check if number of examples for positive vs not-positive lasentimentbel is equal or not. Seems like in this case it's very balanced. \n",
        "train[\"sentiment\"].value_counts()"
      ],
      "execution_count": 42,
      "outputs": [
        {
          "output_type": "execute_result",
          "data": {
            "text/plain": [
              "1    25000\n",
              "0    25000\n",
              "Name: sentiment, dtype: int64"
            ]
          },
          "metadata": {
            "tags": []
          },
          "execution_count": 42
        }
      ]
    },
    {
      "cell_type": "code",
      "metadata": {
        "id": "_Ne6EGbq3nbc",
        "colab_type": "code",
        "colab": {
          "base_uri": "https://localhost:8080/",
          "height": 514
        },
        "outputId": "31939715-c648-4f19-e50b-fc661d7ee6a8"
      },
      "source": [
        "# we see there is an equal number of distribution of target features\n",
        "rcParams[\"figure.figsize\"] = 10,8\n",
        "sns.countplot(x = train[\"sentiment\"])"
      ],
      "execution_count": 43,
      "outputs": [
        {
          "output_type": "execute_result",
          "data": {
            "text/plain": [
              "<matplotlib.axes._subplots.AxesSubplot at 0x7fc4162d60f0>"
            ]
          },
          "metadata": {
            "tags": []
          },
          "execution_count": 43
        },
        {
          "output_type": "display_data",
          "data": {
            "image/png": "[encoded data removed]",
            "text/plain": [
              "<Figure size 720x576 with 1 Axes>"
            ]
          },
          "metadata": {
            "tags": [],
            "needs_background": "light"
          }
        }
      ]
    },
    {
      "cell_type": "code",
      "metadata": {
        "id": "CLJLl-JB3w3h",
        "colab_type": "code",
        "colab": {
          "base_uri": "https://localhost:8080/",
          "height": 238
        },
        "outputId": "37c0032a-ab58-4031-e3dc-7a8ef8dd77be"
      },
      "source": [
        "# lets extract the sentiment column from train dataframe to be the target 'y' variable\n",
        "targets = train['sentiment'].values\n",
        "\n",
        "# Drop the 'label' column from train dataset\n",
        "train.drop(\"sentiment\", axis=1, inplace = True)\n",
        "train.head()"
      ],
      "execution_count": 44,
      "outputs": [
        {
          "output_type": "execute_result",
          "data": {
            "text/html": [
              "<div>\n",
              "<style scoped>\n",
              "    .dataframe tbody tr th:only-of-type {\n",
              "        vertical-align: middle;\n",
              "    }\n",
              "\n",
              "    .dataframe tbody tr th {\n",
              "        vertical-align: top;\n",
              "    }\n",
              "\n",
              "    .dataframe thead th {\n",
              "        text-align: right;\n",
              "    }\n",
              "</style>\n",
              "<table border=\"1\" class=\"dataframe\">\n",
              "  <thead>\n",
              "    <tr style=\"text-align: right;\">\n",
              "      <th></th>\n",
              "      <th>review</th>\n",
              "      <th>total_tokenize</th>\n",
              "      <th>total_tokenize_join</th>\n",
              "    </tr>\n",
              "  </thead>\n",
              "  <tbody>\n",
              "    <tr>\n",
              "      <th>0</th>\n",
              "      <td>one of the other reviewers has mentioned that ...</td>\n",
              "      <td>[one, reviewers, mentioned, watching, 1, oz, e...</td>\n",
              "      <td>one reviewers mentioned watching 1 oz episode ...</td>\n",
              "    </tr>\n",
              "    <tr>\n",
              "      <th>1</th>\n",
              "      <td>a wonderful little production br br the filmin...</td>\n",
              "      <td>[wonderful, little, production, br, br, filmin...</td>\n",
              "      <td>wonderful little production br br filming tech...</td>\n",
              "    </tr>\n",
              "    <tr>\n",
              "      <th>2</th>\n",
              "      <td>i thought this was a wonderful way to spend ti...</td>\n",
              "      <td>[thought, wonderful, way, spend, time, hot, su...</td>\n",
              "      <td>thought wonderful way spend time hot summer we...</td>\n",
              "    </tr>\n",
              "    <tr>\n",
              "      <th>3</th>\n",
              "      <td>basically there's a family where a little boy ...</td>\n",
              "      <td>[basically, 's, family, little, boy, jake, thi...</td>\n",
              "      <td>basically 's family little boy jake thinks 's ...</td>\n",
              "    </tr>\n",
              "    <tr>\n",
              "      <th>4</th>\n",
              "      <td>petter mattei's love in the time of money is a...</td>\n",
              "      <td>[petter, mattei, 's, love, time, money, visual...</td>\n",
              "      <td>petter mattei 's love time money visually stun...</td>\n",
              "    </tr>\n",
              "  </tbody>\n",
              "</table>\n",
              "</div>"
            ],
            "text/plain": [
              "                                              review  ...                                total_tokenize_join\n",
              "0  one of the other reviewers has mentioned that ...  ...  one reviewers mentioned watching 1 oz episode ...\n",
              "1  a wonderful little production br br the filmin...  ...  wonderful little production br br filming tech...\n",
              "2  i thought this was a wonderful way to spend ti...  ...  thought wonderful way spend time hot summer we...\n",
              "3  basically there's a family where a little boy ...  ...  basically 's family little boy jake thinks 's ...\n",
              "4  petter mattei's love in the time of money is a...  ...  petter mattei 's love time money visually stun...\n",
              "\n",
              "[5 rows x 3 columns]"
            ]
          },
          "metadata": {
            "tags": []
          },
          "execution_count": 44
        }
      ]
    },
    {
      "cell_type": "code",
      "metadata": {
        "id": "BPRxDYeSUCEF",
        "colab_type": "code",
        "colab": {
          "base_uri": "https://localhost:8080/",
          "height": 204
        },
        "outputId": "3044e393-d3e5-47ff-a6a3-b6e0ac2a9f31"
      },
      "source": [
        "train.drop(\"total_tokenize\", axis=1, inplace = True)\n",
        "train.head()"
      ],
      "execution_count": 45,
      "outputs": [
        {
          "output_type": "execute_result",
          "data": {
            "text/html": [
              "<div>\n",
              "<style scoped>\n",
              "    .dataframe tbody tr th:only-of-type {\n",
              "        vertical-align: middle;\n",
              "    }\n",
              "\n",
              "    .dataframe tbody tr th {\n",
              "        vertical-align: top;\n",
              "    }\n",
              "\n",
              "    .dataframe thead th {\n",
              "        text-align: right;\n",
              "    }\n",
              "</style>\n",
              "<table border=\"1\" class=\"dataframe\">\n",
              "  <thead>\n",
              "    <tr style=\"text-align: right;\">\n",
              "      <th></th>\n",
              "      <th>review</th>\n",
              "      <th>total_tokenize_join</th>\n",
              "    </tr>\n",
              "  </thead>\n",
              "  <tbody>\n",
              "    <tr>\n",
              "      <th>0</th>\n",
              "      <td>one of the other reviewers has mentioned that ...</td>\n",
              "      <td>one reviewers mentioned watching 1 oz episode ...</td>\n",
              "    </tr>\n",
              "    <tr>\n",
              "      <th>1</th>\n",
              "      <td>a wonderful little production br br the filmin...</td>\n",
              "      <td>wonderful little production br br filming tech...</td>\n",
              "    </tr>\n",
              "    <tr>\n",
              "      <th>2</th>\n",
              "      <td>i thought this was a wonderful way to spend ti...</td>\n",
              "      <td>thought wonderful way spend time hot summer we...</td>\n",
              "    </tr>\n",
              "    <tr>\n",
              "      <th>3</th>\n",
              "      <td>basically there's a family where a little boy ...</td>\n",
              "      <td>basically 's family little boy jake thinks 's ...</td>\n",
              "    </tr>\n",
              "    <tr>\n",
              "      <th>4</th>\n",
              "      <td>petter mattei's love in the time of money is a...</td>\n",
              "      <td>petter mattei 's love time money visually stun...</td>\n",
              "    </tr>\n",
              "  </tbody>\n",
              "</table>\n",
              "</div>"
            ],
            "text/plain": [
              "                                              review                                total_tokenize_join\n",
              "0  one of the other reviewers has mentioned that ...  one reviewers mentioned watching 1 oz episode ...\n",
              "1  a wonderful little production br br the filmin...  wonderful little production br br filming tech...\n",
              "2  i thought this was a wonderful way to spend ti...  thought wonderful way spend time hot summer we...\n",
              "3  basically there's a family where a little boy ...  basically 's family little boy jake thinks 's ...\n",
              "4  petter mattei's love in the time of money is a...  petter mattei 's love time money visually stun..."
            ]
          },
          "metadata": {
            "tags": []
          },
          "execution_count": 45
        }
      ]
    },
    {
      "cell_type": "code",
      "metadata": {
        "id": "SDO0zvVYVEdY",
        "colab_type": "code",
        "colab": {
          "base_uri": "https://localhost:8080/",
          "height": 204
        },
        "outputId": "d431bd48-d83e-4e54-bb6e-1de03e734c8c"
      },
      "source": [
        "train.drop(\"total_tokenize_join\", axis=1, inplace = True)\n",
        "train.head()"
      ],
      "execution_count": 46,
      "outputs": [
        {
          "output_type": "execute_result",
          "data": {
            "text/html": [
              "<div>\n",
              "<style scoped>\n",
              "    .dataframe tbody tr th:only-of-type {\n",
              "        vertical-align: middle;\n",
              "    }\n",
              "\n",
              "    .dataframe tbody tr th {\n",
              "        vertical-align: top;\n",
              "    }\n",
              "\n",
              "    .dataframe thead th {\n",
              "        text-align: right;\n",
              "    }\n",
              "</style>\n",
              "<table border=\"1\" class=\"dataframe\">\n",
              "  <thead>\n",
              "    <tr style=\"text-align: right;\">\n",
              "      <th></th>\n",
              "      <th>review</th>\n",
              "    </tr>\n",
              "  </thead>\n",
              "  <tbody>\n",
              "    <tr>\n",
              "      <th>0</th>\n",
              "      <td>one of the other reviewers has mentioned that ...</td>\n",
              "    </tr>\n",
              "    <tr>\n",
              "      <th>1</th>\n",
              "      <td>a wonderful little production br br the filmin...</td>\n",
              "    </tr>\n",
              "    <tr>\n",
              "      <th>2</th>\n",
              "      <td>i thought this was a wonderful way to spend ti...</td>\n",
              "    </tr>\n",
              "    <tr>\n",
              "      <th>3</th>\n",
              "      <td>basically there's a family where a little boy ...</td>\n",
              "    </tr>\n",
              "    <tr>\n",
              "      <th>4</th>\n",
              "      <td>petter mattei's love in the time of money is a...</td>\n",
              "    </tr>\n",
              "  </tbody>\n",
              "</table>\n",
              "</div>"
            ],
            "text/plain": [
              "                                              review\n",
              "0  one of the other reviewers has mentioned that ...\n",
              "1  a wonderful little production br br the filmin...\n",
              "2  i thought this was a wonderful way to spend ti...\n",
              "3  basically there's a family where a little boy ...\n",
              "4  petter mattei's love in the time of money is a..."
            ]
          },
          "metadata": {
            "tags": []
          },
          "execution_count": 46
        }
      ]
    },
    {
      "cell_type": "markdown",
      "metadata": {
        "id": "hPynugSb4P1O",
        "colab_type": "text"
      },
      "source": [
        "##Implement TF-IDF"
      ]
    },
    {
      "cell_type": "markdown",
      "metadata": {
        "id": "kUgB0cl45jK5",
        "colab_type": "text"
      },
      "source": [
        "Example: What kind of ngrams does range(1,2) create?\n",
        "\n",
        "```\n",
        "sentence = [\"an apple a day keeps the doctor away\"]\n",
        "v=text.CountVectorizer(ngramrange=(1,2))\n",
        "\n",
        "print(v.fit(sentence).vocabulary)\n",
        "\n",
        "Result:\n",
        "{'an': 0, 'apple': 2, 'day': 5, 'keeps': 9, 'the': 11, 'doctor': 7, 'away': 4, 'an apple': 1, 'apple day': 3, 'day keeps': 6, 'keeps the': 10, 'the doctor': 12, 'doctor away': 8}\n",
        "```\n"
      ]
    },
    {
      "cell_type": "code",
      "metadata": {
        "id": "AHA77x9Lo55V",
        "colab_type": "code",
        "colab": {}
      },
      "source": [
        "import numpy as np\n",
        "import tensorflow as tf\n",
        "\n",
        "from os.path import join, exists, split\n",
        "import os\n",
        "\n",
        "\n",
        "from sklearn.feature_extraction.text import TfidfVectorizer\n",
        "from keras.models import Sequential, Model\n",
        "from keras.layers import LSTM, merge, Conv1D, Dense, Dropout, Flatten, Input, MaxPooling1D, Convolution1D, Embedding, GlobalMaxPooling1D, BatchNormalization, GlobalAveragePooling1D, Concatenate, Reshape\n",
        "#from keras.layers.merge import concatenate\n",
        "from keras.datasets import imdb\n",
        "from keras.preprocessing import sequence\n",
        "from keras.utils.vis_utils import model_to_dot\n",
        "from keras.optimizers import RMSprop\n",
        "#from keras.layers import concatenate\n",
        "\n",
        "\n",
        "import matplotlib.pyplot as plt\n",
        "\n",
        "%matplotlib inline"
      ],
      "execution_count": 155,
      "outputs": []
    },
    {
      "cell_type": "code",
      "metadata": {
        "id": "8wwtB_59prvA",
        "colab_type": "code",
        "colab": {}
      },
      "source": [
        "# Model Hyperparameters\n",
        "embedding_dim = 32\n",
        "filter_sizes = (3, 5, 7, 9)\n",
        "#filter_sizes = (3, 3, 3)\n",
        "num_filters = 128\n",
        "dropout_prob = (0.5, 0.0)\n",
        "\n",
        "# Training parameters\n",
        "batch_size = 64\n",
        "num_epochs = 10\n",
        "\n",
        "# Prepossessing parameters\n",
        "sequence_length = 500\n",
        "max_words = 5000\n"
      ],
      "execution_count": 156,
      "outputs": []
    },
    {
      "cell_type": "code",
      "metadata": {
        "id": "pctNJZGb6C28",
        "colab_type": "code",
        "colab": {}
      },
      "source": [
        "from sklearn.model_selection import train_test_split\n",
        "#  If train-test size is not initialized, test_size will be set to 0.25 and train_set = 1-test_size\n",
        "\n",
        "X_train, X_test, y_train, y_test = train_test_split(train, targets, random_state=0)"
      ],
      "execution_count": 157,
      "outputs": []
    },
    {
      "cell_type": "code",
      "metadata": {
        "id": "URSMpie-6MVM",
        "colab_type": "code",
        "colab": {}
      },
      "source": [
        "X_train = X_train[:12500]\n",
        "y_train = y_train[:12500]\n",
        "X_test = X_test[:12500]\n",
        "y_test = y_test[:12500]"
      ],
      "execution_count": 158,
      "outputs": []
    },
    {
      "cell_type": "code",
      "metadata": {
        "id": "WUAKAzE56U-5",
        "colab_type": "code",
        "colab": {
          "base_uri": "https://localhost:8080/",
          "height": 85
        },
        "outputId": "bbfb86e6-a992-4822-a45d-06c94b008a76"
      },
      "source": [
        "print(\"X_train shape:\", X_train.shape)\n",
        "print(\"y_train shape:\", y_train.shape)\n",
        "print(\"X_test shape:\", X_test.shape)\n",
        "print(\"y_test shape:\", y_test.shape)\n",
        "X_train?"
      ],
      "execution_count": 159,
      "outputs": [
        {
          "output_type": "stream",
          "text": [
            "X_train shape: (12500, 1)\n",
            "y_train shape: (12500,)\n",
            "X_test shape: (12500, 1)\n",
            "y_test shape: (12500,)\n"
          ],
          "name": "stdout"
        }
      ]
    },
    {
      "cell_type": "code",
      "metadata": {
        "id": "rFFyPJ54P_Gd",
        "colab_type": "code",
        "colab": {}
      },
      "source": [
        "from sklearn.feature_extraction.text import TfidfVectorizer\n",
        "from keras.preprocessing.text import Tokenizer\n",
        "\n",
        "vectorizer = TfidfVectorizer(max_features=300)\n",
        "vectorizer = vectorizer.fit(X_train)\n",
        "\n",
        "df_train = vectorizer.transform(X_train)\n",
        "\n",
        "tokenizer = Tokenizer()\n",
        "tokenizer.fit_on_texts(X_train)"
      ],
      "execution_count": 160,
      "outputs": []
    },
    {
      "cell_type": "code",
      "metadata": {
        "id": "eCtQ4dxWWa1T",
        "colab_type": "code",
        "colab": {}
      },
      "source": [
        "vectorizer = TfidfVectorizer(max_features=300)\n",
        "vectorizer = vectorizer.fit(X_test)\n",
        "\n",
        "df_test = vectorizer.transform(X_test)\n",
        "\n",
        "tokenizer = Tokenizer()\n",
        "tokenizer.fit_on_texts(X_test)"
      ],
      "execution_count": 161,
      "outputs": []
    },
    {
      "cell_type": "code",
      "metadata": {
        "id": "mVjeSWbCvQhv",
        "colab_type": "code",
        "colab": {
          "base_uri": "https://localhost:8080/",
          "height": 340
        },
        "outputId": "cefa6899-7aa5-44d7-9f55-3914aa2aac0a"
      },
      "source": [
        "import keras\n",
        "from keras.layers import concatenate\n",
        "\n",
        "sequences_train = tokenizer.texts_to_sequences(X_train)  \n",
        "sequences_train = sequence.pad_sequences(sequences_train, maxlen=sequence_length, padding=\"post\", truncating=\"post\")\n",
        "\n",
        "sequences_test = tokenizer.texts_to_sequences(X_test)\n",
        "sequences_test = sequence.pad_sequences(sequences_test, maxlen=sequence_length, padding=\"post\", truncating=\"post\")\n",
        "\n",
        "#Retrieves a dict mapping words to their index in the IMDB dataset.\n",
        "vocabulary_inv = len(tokenizer.word_index) + 1\n",
        "\n",
        "print(\"X_train shape:\", X_train.shape)\n",
        "print(\"X_train shape:\", sequences_train)\n",
        "\n",
        "sequences_train?\n",
        "print(\"y_train shape:\", y_train.shape)\n",
        "print(\"X_test shape:\", X_test.shape)\n",
        "print(\"y_test shape:\", y_test.shape)\n",
        "print(\"Vocabulary Size: {:d}\".format(vocabulary_inv))\n",
        "\n",
        "\n",
        "# # Input layer\n",
        "input_tfidf = Input(shape=(300,))\n",
        "\n",
        "input_shape = (sequence_length,)\n",
        "model_input = Input(shape=input_shape)\n",
        "# # Embedding layer\n",
        "embedding_layer = Embedding(vocabulary_inv, embedding_dim, input_length=sequence_length, name=\"embedding\")\n",
        "# #embedding_layer = Flatten()(embedding_layer)\n",
        "z = embedding_layer(model_input)\n",
        "\n",
        "mean_embedding = keras.layers.Lambda(lambda x: keras.backend.mean(x, axis=1))(z)\n",
        "concatenated = concatenate([input_tfidf, mean_embedding])\n"
      ],
      "execution_count": 162,
      "outputs": [
        {
          "output_type": "stream",
          "text": [
            "X_train shape: (12500, 1)\n",
            "X_train shape: [[1 0 0 0 0 0 0 0 0 0 0 0 0 0 0 0 0 0 0 0 0 0 0 0 0 0 0 0 0 0 0 0 0 0 0 0\n",
            "  0 0 0 0 0 0 0 0 0 0 0 0 0 0 0 0 0 0 0 0 0 0 0 0 0 0 0 0 0 0 0 0 0 0 0 0\n",
            "  0 0 0 0 0 0 0 0 0 0 0 0 0 0 0 0 0 0 0 0 0 0 0 0 0 0 0 0 0 0 0 0 0 0 0 0\n",
            "  0 0 0 0 0 0 0 0 0 0 0 0 0 0 0 0 0 0 0 0 0 0 0 0 0 0 0 0 0 0 0 0 0 0 0 0\n",
            "  0 0 0 0 0 0 0 0 0 0 0 0 0 0 0 0 0 0 0 0 0 0 0 0 0 0 0 0 0 0 0 0 0 0 0 0\n",
            "  0 0 0 0 0 0 0 0 0 0 0 0 0 0 0 0 0 0 0 0 0 0 0 0 0 0 0 0 0 0 0 0 0 0 0 0\n",
            "  0 0 0 0 0 0 0 0 0 0 0 0 0 0 0 0 0 0 0 0 0 0 0 0 0 0 0 0 0 0 0 0 0 0 0 0\n",
            "  0 0 0 0 0 0 0 0 0 0 0 0 0 0 0 0 0 0 0 0 0 0 0 0 0 0 0 0 0 0 0 0 0 0 0 0\n",
            "  0 0 0 0 0 0 0 0 0 0 0 0 0 0 0 0 0 0 0 0 0 0 0 0 0 0 0 0 0 0 0 0 0 0 0 0\n",
            "  0 0 0 0 0 0 0 0 0 0 0 0 0 0 0 0 0 0 0 0 0 0 0 0 0 0 0 0 0 0 0 0 0 0 0 0\n",
            "  0 0 0 0 0 0 0 0 0 0 0 0 0 0 0 0 0 0 0 0 0 0 0 0 0 0 0 0 0 0 0 0 0 0 0 0\n",
            "  0 0 0 0 0 0 0 0 0 0 0 0 0 0 0 0 0 0 0 0 0 0 0 0 0 0 0 0 0 0 0 0 0 0 0 0\n",
            "  0 0 0 0 0 0 0 0 0 0 0 0 0 0 0 0 0 0 0 0 0 0 0 0 0 0 0 0 0 0 0 0 0 0 0 0\n",
            "  0 0 0 0 0 0 0 0 0 0 0 0 0 0 0 0 0 0 0 0 0 0 0 0 0 0 0 0 0 0 0 0]]\n",
            "y_train shape: (12500,)\n",
            "X_test shape: (12500, 1)\n",
            "y_test shape: (12500,)\n",
            "Vocabulary Size: 2\n"
          ],
          "name": "stdout"
        }
      ]
    },
    {
      "cell_type": "code",
      "metadata": {
        "id": "nkjHx_LXQz49",
        "colab_type": "code",
        "colab": {
          "base_uri": "https://localhost:8080/",
          "height": 119
        },
        "outputId": "433caaa5-e985-4759-901c-07703dff4550"
      },
      "source": [
        "print(\"sequence_length\", sequence_length)\n",
        "print(\"model_input\", model_input)\n",
        "print(\"Embedding Dim\", embedding_dim)\n",
        "print(\"Embedding layer\", embedding_layer)\n",
        "print(\"Embedding layer\", z)\n",
        "print(\"Vocabulary Size\", concatenated)"
      ],
      "execution_count": 163,
      "outputs": [
        {
          "output_type": "stream",
          "text": [
            "sequence_length 500\n",
            "model_input Tensor(\"input_16:0\", shape=(None, 500), dtype=float32)\n",
            "Embedding Dim 32\n",
            "Embedding layer <tensorflow.python.keras.layers.embeddings.Embedding object at 0x7fc4164f4550>\n",
            "Embedding layer Tensor(\"embedding/embedding_lookup_7/Identity_1:0\", shape=(None, 500, 32), dtype=float32)\n",
            "Vocabulary Size Tensor(\"concatenate_5/concat:0\", shape=(None, 332), dtype=float32)\n"
          ],
          "name": "stdout"
        }
      ]
    },
    {
      "cell_type": "code",
      "metadata": {
        "id": "GqzJ7keWY0fL",
        "colab_type": "code",
        "colab": {
          "base_uri": "https://localhost:8080/",
          "height": 1000
        },
        "outputId": "836fe322-ce46-49fa-f0d2-d27427e88e4c"
      },
      "source": [
        "dense1 = Dense(256, activation='relu')(concatenated)\n",
        "dense2 = Dense(32, activation='relu')(dense1)\n",
        "dense3 = Dense(8, activation='sigmoid')(dense2)\n",
        "\n",
        "model = Model(inputs=[input_tfidf, model_input], outputs=dense3)\n",
        "\n",
        "model.summary()\n",
        "\n",
        "model.compile(optimizer='adam', loss='binary_crossentropy', metrics=['accuracy'])\n",
        "\n",
        "from IPython.display import SVG\n",
        "model.summary(85)\n",
        "SVG(model_to_dot(model, show_shapes=True).create(prog='dot', format='svg'))"
      ],
      "execution_count": 130,
      "outputs": [
        {
          "output_type": "stream",
          "text": [
            "Model: \"functional_7\"\n",
            "__________________________________________________________________________________________________\n",
            "Layer (type)                    Output Shape         Param #     Connected to                     \n",
            "==================================================================================================\n",
            "input_12 (InputLayer)           [(None, 500)]        0                                            \n",
            "__________________________________________________________________________________________________\n",
            "embedding (Embedding)           (None, 500, 32)      64          input_12[0][0]                   \n",
            "__________________________________________________________________________________________________\n",
            "input_11 (InputLayer)           [(None, 300)]        0                                            \n",
            "__________________________________________________________________________________________________\n",
            "lambda_4 (Lambda)               (None, 32)           0           embedding[0][0]                  \n",
            "__________________________________________________________________________________________________\n",
            "concatenate_3 (Concatenate)     (None, 332)          0           input_11[0][0]                   \n",
            "                                                                 lambda_4[0][0]                   \n",
            "__________________________________________________________________________________________________\n",
            "dense_12 (Dense)                (None, 256)          85248       concatenate_3[0][0]              \n",
            "__________________________________________________________________________________________________\n",
            "dense_13 (Dense)                (None, 32)           8224        dense_12[0][0]                   \n",
            "__________________________________________________________________________________________________\n",
            "dense_14 (Dense)                (None, 8)            264         dense_13[0][0]                   \n",
            "==================================================================================================\n",
            "Total params: 93,800\n",
            "Trainable params: 93,800\n",
            "Non-trainable params: 0\n",
            "__________________________________________________________________________________________________\n",
            "Model: \"functional_7\"\n",
            "_____________________________________________________________________________________\n",
            "Layer (type)                Output Shape      Param #   Connected to                 \n",
            "=====================================================================================\n",
            "input_12 (InputLayer)       [(None, 500)]     0                                      \n",
            "_____________________________________________________________________________________\n",
            "embedding (Embedding)       (None, 500, 32)   64        input_12[0][0]               \n",
            "_____________________________________________________________________________________\n",
            "input_11 (InputLayer)       [(None, 300)]     0                                      \n",
            "_____________________________________________________________________________________\n",
            "lambda_4 (Lambda)           (None, 32)        0         embedding[0][0]              \n",
            "_____________________________________________________________________________________\n",
            "concatenate_3 (Concatenate) (None, 332)       0         input_11[0][0]               \n",
            "                                                        lambda_4[0][0]               \n",
            "_____________________________________________________________________________________\n",
            "dense_12 (Dense)            (None, 256)       85248     concatenate_3[0][0]          \n",
            "_____________________________________________________________________________________\n",
            "dense_13 (Dense)            (None, 32)        8224      dense_12[0][0]               \n",
            "_____________________________________________________________________________________\n",
            "dense_14 (Dense)            (None, 8)         264       dense_13[0][0]               \n",
            "=====================================================================================\n",
            "Total params: 93,800\n",
            "Trainable params: 93,800\n",
            "Non-trainable params: 0\n",
            "_____________________________________________________________________________________\n"
          ],
          "name": "stdout"
        },
        {
          "output_type": "execute_result",
          "data": {
            "text/plain": [
              "<IPython.core.display.SVG object>"
            ],
            "image/svg+xml": "<svg height=\"737pt\" viewBox=\"0.00 0.00 579.50 553.00\" width=\"773pt\" xmlns=\"http://www.w3.org/2000/svg\" xmlns:xlink=\"http://www.w3.org/1999/xlink\">\n<g class=\"graph\" id=\"graph0\" transform=\"scale(1.3333 1.3333) rotate(0) translate(4 549)\">\n<title>G</title>\n<polygon fill=\"#ffffff\" points=\"-4,4 -4,-549 575.5,-549 575.5,4 -4,4\" stroke=\"transparent\"/>\n<!-- 140480163920416 -->\n<g class=\"node\" id=\"node1\">\n<title>140480163920416</title>\n<polygon fill=\"none\" points=\"14.5,-498.5 14.5,-544.5 283.5,-544.5 283.5,-498.5 14.5,-498.5\" stroke=\"#000000\"/>\n<text fill=\"#000000\" font-family=\"Times,serif\" font-size=\"14.00\" text-anchor=\"middle\" x=\"84.5\" y=\"-517.8\">input_12: InputLayer</text>\n<polyline fill=\"none\" points=\"154.5,-498.5 154.5,-544.5 \" stroke=\"#000000\"/>\n<text fill=\"#000000\" font-family=\"Times,serif\" font-size=\"14.00\" text-anchor=\"middle\" x=\"183.5\" y=\"-529.3\">input:</text>\n<polyline fill=\"none\" points=\"154.5,-521.5 212.5,-521.5 \" stroke=\"#000000\"/>\n<text fill=\"#000000\" font-family=\"Times,serif\" font-size=\"14.00\" text-anchor=\"middle\" x=\"183.5\" y=\"-506.3\">output:</text>\n<polyline fill=\"none\" points=\"212.5,-498.5 212.5,-544.5 \" stroke=\"#000000\"/>\n<text fill=\"#000000\" font-family=\"Times,serif\" font-size=\"14.00\" text-anchor=\"middle\" x=\"248\" y=\"-529.3\">[(?, 500)]</text>\n<polyline fill=\"none\" points=\"212.5,-521.5 283.5,-521.5 \" stroke=\"#000000\"/>\n<text fill=\"#000000\" font-family=\"Times,serif\" font-size=\"14.00\" text-anchor=\"middle\" x=\"248\" y=\"-506.3\">[(?, 500)]</text>\n</g>\n<!-- 140480162757152 -->\n<g class=\"node\" id=\"node2\">\n<title>140480162757152</title>\n<polygon fill=\"none\" points=\"0,-415.5 0,-461.5 298,-461.5 298,-415.5 0,-415.5\" stroke=\"#000000\"/>\n<text fill=\"#000000\" font-family=\"Times,serif\" font-size=\"14.00\" text-anchor=\"middle\" x=\"78\" y=\"-434.8\">embedding: Embedding</text>\n<polyline fill=\"none\" points=\"156,-415.5 156,-461.5 \" stroke=\"#000000\"/>\n<text fill=\"#000000\" font-family=\"Times,serif\" font-size=\"14.00\" text-anchor=\"middle\" x=\"185\" y=\"-446.3\">input:</text>\n<polyline fill=\"none\" points=\"156,-438.5 214,-438.5 \" stroke=\"#000000\"/>\n<text fill=\"#000000\" font-family=\"Times,serif\" font-size=\"14.00\" text-anchor=\"middle\" x=\"185\" y=\"-423.3\">output:</text>\n<polyline fill=\"none\" points=\"214,-415.5 214,-461.5 \" stroke=\"#000000\"/>\n<text fill=\"#000000\" font-family=\"Times,serif\" font-size=\"14.00\" text-anchor=\"middle\" x=\"256\" y=\"-446.3\">(?, 500)</text>\n<polyline fill=\"none\" points=\"214,-438.5 298,-438.5 \" stroke=\"#000000\"/>\n<text fill=\"#000000\" font-family=\"Times,serif\" font-size=\"14.00\" text-anchor=\"middle\" x=\"256\" y=\"-423.3\">(?, 500, 32)</text>\n</g>\n<!-- 140480163920416&#45;&gt;140480162757152 -->\n<g class=\"edge\" id=\"edge1\">\n<title>140480163920416-&gt;140480162757152</title>\n<path d=\"M149,-498.3799C149,-490.1745 149,-480.7679 149,-471.8786\" fill=\"none\" stroke=\"#000000\"/>\n<polygon fill=\"#000000\" points=\"152.5001,-471.784 149,-461.784 145.5001,-471.784 152.5001,-471.784\" stroke=\"#000000\"/>\n</g>\n<!-- 140480163936856 -->\n<g class=\"node\" id=\"node4\">\n<title>140480163936856</title>\n<polygon fill=\"none\" points=\"14,-332.5 14,-378.5 284,-378.5 284,-332.5 14,-332.5\" stroke=\"#000000\"/>\n<text fill=\"#000000\" font-family=\"Times,serif\" font-size=\"14.00\" text-anchor=\"middle\" x=\"78\" y=\"-351.8\">lambda_4: Lambda</text>\n<polyline fill=\"none\" points=\"142,-332.5 142,-378.5 \" stroke=\"#000000\"/>\n<text fill=\"#000000\" font-family=\"Times,serif\" font-size=\"14.00\" text-anchor=\"middle\" x=\"171\" y=\"-363.3\">input:</text>\n<polyline fill=\"none\" points=\"142,-355.5 200,-355.5 \" stroke=\"#000000\"/>\n<text fill=\"#000000\" font-family=\"Times,serif\" font-size=\"14.00\" text-anchor=\"middle\" x=\"171\" y=\"-340.3\">output:</text>\n<polyline fill=\"none\" points=\"200,-332.5 200,-378.5 \" stroke=\"#000000\"/>\n<text fill=\"#000000\" font-family=\"Times,serif\" font-size=\"14.00\" text-anchor=\"middle\" x=\"242\" y=\"-363.3\">(?, 500, 32)</text>\n<polyline fill=\"none\" points=\"200,-355.5 284,-355.5 \" stroke=\"#000000\"/>\n<text fill=\"#000000\" font-family=\"Times,serif\" font-size=\"14.00\" text-anchor=\"middle\" x=\"242\" y=\"-340.3\">(?, 32)</text>\n</g>\n<!-- 140480162757152&#45;&gt;140480163936856 -->\n<g class=\"edge\" id=\"edge2\">\n<title>140480162757152-&gt;140480163936856</title>\n<path d=\"M149,-415.3799C149,-407.1745 149,-397.7679 149,-388.8786\" fill=\"none\" stroke=\"#000000\"/>\n<polygon fill=\"#000000\" points=\"152.5001,-388.784 149,-378.784 145.5001,-388.784 152.5001,-388.784\" stroke=\"#000000\"/>\n</g>\n<!-- 140480163925128 -->\n<g class=\"node\" id=\"node3\">\n<title>140480163925128</title>\n<polygon fill=\"none\" points=\"302.5,-332.5 302.5,-378.5 571.5,-378.5 571.5,-332.5 302.5,-332.5\" stroke=\"#000000\"/>\n<text fill=\"#000000\" font-family=\"Times,serif\" font-size=\"14.00\" text-anchor=\"middle\" x=\"372.5\" y=\"-351.8\">input_11: InputLayer</text>\n<polyline fill=\"none\" points=\"442.5,-332.5 442.5,-378.5 \" stroke=\"#000000\"/>\n<text fill=\"#000000\" font-family=\"Times,serif\" font-size=\"14.00\" text-anchor=\"middle\" x=\"471.5\" y=\"-363.3\">input:</text>\n<polyline fill=\"none\" points=\"442.5,-355.5 500.5,-355.5 \" stroke=\"#000000\"/>\n<text fill=\"#000000\" font-family=\"Times,serif\" font-size=\"14.00\" text-anchor=\"middle\" x=\"471.5\" y=\"-340.3\">output:</text>\n<polyline fill=\"none\" points=\"500.5,-332.5 500.5,-378.5 \" stroke=\"#000000\"/>\n<text fill=\"#000000\" font-family=\"Times,serif\" font-size=\"14.00\" text-anchor=\"middle\" x=\"536\" y=\"-363.3\">[(?, 300)]</text>\n<polyline fill=\"none\" points=\"500.5,-355.5 571.5,-355.5 \" stroke=\"#000000\"/>\n<text fill=\"#000000\" font-family=\"Times,serif\" font-size=\"14.00\" text-anchor=\"middle\" x=\"536\" y=\"-340.3\">[(?, 300)]</text>\n</g>\n<!-- 140480163934448 -->\n<g class=\"node\" id=\"node5\">\n<title>140480163934448</title>\n<polygon fill=\"none\" points=\"118.5,-249.5 118.5,-295.5 467.5,-295.5 467.5,-249.5 118.5,-249.5\" stroke=\"#000000\"/>\n<text fill=\"#000000\" font-family=\"Times,serif\" font-size=\"14.00\" text-anchor=\"middle\" x=\"206\" y=\"-268.8\">concatenate_3: Concatenate</text>\n<polyline fill=\"none\" points=\"293.5,-249.5 293.5,-295.5 \" stroke=\"#000000\"/>\n<text fill=\"#000000\" font-family=\"Times,serif\" font-size=\"14.00\" text-anchor=\"middle\" x=\"322.5\" y=\"-280.3\">input:</text>\n<polyline fill=\"none\" points=\"293.5,-272.5 351.5,-272.5 \" stroke=\"#000000\"/>\n<text fill=\"#000000\" font-family=\"Times,serif\" font-size=\"14.00\" text-anchor=\"middle\" x=\"322.5\" y=\"-257.3\">output:</text>\n<polyline fill=\"none\" points=\"351.5,-249.5 351.5,-295.5 \" stroke=\"#000000\"/>\n<text fill=\"#000000\" font-family=\"Times,serif\" font-size=\"14.00\" text-anchor=\"middle\" x=\"409.5\" y=\"-280.3\">[(?, 300), (?, 32)]</text>\n<polyline fill=\"none\" points=\"351.5,-272.5 467.5,-272.5 \" stroke=\"#000000\"/>\n<text fill=\"#000000\" font-family=\"Times,serif\" font-size=\"14.00\" text-anchor=\"middle\" x=\"409.5\" y=\"-257.3\">(?, 332)</text>\n</g>\n<!-- 140480163925128&#45;&gt;140480163934448 -->\n<g class=\"edge\" id=\"edge3\">\n<title>140480163925128-&gt;140480163934448</title>\n<path d=\"M396.888,-332.3799C379.9508,-322.6175 360.0634,-311.1546 342.2476,-300.8857\" fill=\"none\" stroke=\"#000000\"/>\n<polygon fill=\"#000000\" points=\"343.5581,-297.6014 333.1464,-295.6399 340.0625,-303.6661 343.5581,-297.6014\" stroke=\"#000000\"/>\n</g>\n<!-- 140480163936856&#45;&gt;140480163934448 -->\n<g class=\"edge\" id=\"edge4\">\n<title>140480163936856-&gt;140480163934448</title>\n<path d=\"M189.112,-332.3799C206.0492,-322.6175 225.9366,-311.1546 243.7524,-300.8857\" fill=\"none\" stroke=\"#000000\"/>\n<polygon fill=\"#000000\" points=\"245.9375,-303.6661 252.8536,-295.6399 242.4419,-297.6014 245.9375,-303.6661\" stroke=\"#000000\"/>\n</g>\n<!-- 140480163927824 -->\n<g class=\"node\" id=\"node6\">\n<title>140480163927824</title>\n<polygon fill=\"none\" points=\"176,-166.5 176,-212.5 410,-212.5 410,-166.5 176,-166.5\" stroke=\"#000000\"/>\n<text fill=\"#000000\" font-family=\"Times,serif\" font-size=\"14.00\" text-anchor=\"middle\" x=\"233\" y=\"-185.8\">dense_12: Dense</text>\n<polyline fill=\"none\" points=\"290,-166.5 290,-212.5 \" stroke=\"#000000\"/>\n<text fill=\"#000000\" font-family=\"Times,serif\" font-size=\"14.00\" text-anchor=\"middle\" x=\"319\" y=\"-197.3\">input:</text>\n<polyline fill=\"none\" points=\"290,-189.5 348,-189.5 \" stroke=\"#000000\"/>\n<text fill=\"#000000\" font-family=\"Times,serif\" font-size=\"14.00\" text-anchor=\"middle\" x=\"319\" y=\"-174.3\">output:</text>\n<polyline fill=\"none\" points=\"348,-166.5 348,-212.5 \" stroke=\"#000000\"/>\n<text fill=\"#000000\" font-family=\"Times,serif\" font-size=\"14.00\" text-anchor=\"middle\" x=\"379\" y=\"-197.3\">(?, 332)</text>\n<polyline fill=\"none\" points=\"348,-189.5 410,-189.5 \" stroke=\"#000000\"/>\n<text fill=\"#000000\" font-family=\"Times,serif\" font-size=\"14.00\" text-anchor=\"middle\" x=\"379\" y=\"-174.3\">(?, 256)</text>\n</g>\n<!-- 140480163934448&#45;&gt;140480163927824 -->\n<g class=\"edge\" id=\"edge5\">\n<title>140480163934448-&gt;140480163927824</title>\n<path d=\"M293,-249.3799C293,-241.1745 293,-231.7679 293,-222.8786\" fill=\"none\" stroke=\"#000000\"/>\n<polygon fill=\"#000000\" points=\"296.5001,-222.784 293,-212.784 289.5001,-222.784 296.5001,-222.784\" stroke=\"#000000\"/>\n</g>\n<!-- 140480163935736 -->\n<g class=\"node\" id=\"node7\">\n<title>140480163935736</title>\n<polygon fill=\"none\" points=\"176,-83.5 176,-129.5 410,-129.5 410,-83.5 176,-83.5\" stroke=\"#000000\"/>\n<text fill=\"#000000\" font-family=\"Times,serif\" font-size=\"14.00\" text-anchor=\"middle\" x=\"233\" y=\"-102.8\">dense_13: Dense</text>\n<polyline fill=\"none\" points=\"290,-83.5 290,-129.5 \" stroke=\"#000000\"/>\n<text fill=\"#000000\" font-family=\"Times,serif\" font-size=\"14.00\" text-anchor=\"middle\" x=\"319\" y=\"-114.3\">input:</text>\n<polyline fill=\"none\" points=\"290,-106.5 348,-106.5 \" stroke=\"#000000\"/>\n<text fill=\"#000000\" font-family=\"Times,serif\" font-size=\"14.00\" text-anchor=\"middle\" x=\"319\" y=\"-91.3\">output:</text>\n<polyline fill=\"none\" points=\"348,-83.5 348,-129.5 \" stroke=\"#000000\"/>\n<text fill=\"#000000\" font-family=\"Times,serif\" font-size=\"14.00\" text-anchor=\"middle\" x=\"379\" y=\"-114.3\">(?, 256)</text>\n<polyline fill=\"none\" points=\"348,-106.5 410,-106.5 \" stroke=\"#000000\"/>\n<text fill=\"#000000\" font-family=\"Times,serif\" font-size=\"14.00\" text-anchor=\"middle\" x=\"379\" y=\"-91.3\">(?, 32)</text>\n</g>\n<!-- 140480163927824&#45;&gt;140480163935736 -->\n<g class=\"edge\" id=\"edge6\">\n<title>140480163927824-&gt;140480163935736</title>\n<path d=\"M293,-166.3799C293,-158.1745 293,-148.7679 293,-139.8786\" fill=\"none\" stroke=\"#000000\"/>\n<polygon fill=\"#000000\" points=\"296.5001,-139.784 293,-129.784 289.5001,-139.784 296.5001,-139.784\" stroke=\"#000000\"/>\n</g>\n<!-- 140480163462896 -->\n<g class=\"node\" id=\"node8\">\n<title>140480163462896</title>\n<polygon fill=\"none\" points=\"180,-.5 180,-46.5 406,-46.5 406,-.5 180,-.5\" stroke=\"#000000\"/>\n<text fill=\"#000000\" font-family=\"Times,serif\" font-size=\"14.00\" text-anchor=\"middle\" x=\"237\" y=\"-19.8\">dense_14: Dense</text>\n<polyline fill=\"none\" points=\"294,-.5 294,-46.5 \" stroke=\"#000000\"/>\n<text fill=\"#000000\" font-family=\"Times,serif\" font-size=\"14.00\" text-anchor=\"middle\" x=\"323\" y=\"-31.3\">input:</text>\n<polyline fill=\"none\" points=\"294,-23.5 352,-23.5 \" stroke=\"#000000\"/>\n<text fill=\"#000000\" font-family=\"Times,serif\" font-size=\"14.00\" text-anchor=\"middle\" x=\"323\" y=\"-8.3\">output:</text>\n<polyline fill=\"none\" points=\"352,-.5 352,-46.5 \" stroke=\"#000000\"/>\n<text fill=\"#000000\" font-family=\"Times,serif\" font-size=\"14.00\" text-anchor=\"middle\" x=\"379\" y=\"-31.3\">(?, 32)</text>\n<polyline fill=\"none\" points=\"352,-23.5 406,-23.5 \" stroke=\"#000000\"/>\n<text fill=\"#000000\" font-family=\"Times,serif\" font-size=\"14.00\" text-anchor=\"middle\" x=\"379\" y=\"-8.3\">(?, 8)</text>\n</g>\n<!-- 140480163935736&#45;&gt;140480163462896 -->\n<g class=\"edge\" id=\"edge7\">\n<title>140480163935736-&gt;140480163462896</title>\n<path d=\"M293,-83.3799C293,-75.1745 293,-65.7679 293,-56.8786\" fill=\"none\" stroke=\"#000000\"/>\n<polygon fill=\"#000000\" points=\"296.5001,-56.784 293,-46.784 289.5001,-56.784 296.5001,-56.784\" stroke=\"#000000\"/>\n</g>\n</g>\n</svg>"
          },
          "metadata": {
            "tags": []
          },
          "execution_count": 130
        }
      ]
    },
    {
      "cell_type": "code",
      "metadata": {
        "id": "NYralgtlefQv",
        "colab_type": "code",
        "colab": {}
      },
      "source": [
        "transformer = TfidfTransformer(smooth_idf=False)\n",
        "count_vectorizer = CountVectorizer(ngram_range=(1, 2))"
      ],
      "execution_count": 165,
      "outputs": []
    },
    {
      "cell_type": "code",
      "metadata": {
        "id": "BQXAEOlqefUi",
        "colab_type": "code",
        "colab": {
          "base_uri": "https://localhost:8080/",
          "height": 51
        },
        "outputId": "794ccd01-97a7-4b9a-8207-7157f07d8d61"
      },
      "source": [
        "# fit train data to the count vectorizer\n",
        "train_counts = count_vectorizer.fit_transform(train['review'].values)\n",
        "\n",
        "#fit the ngrams count to the tfidf transformers\n",
        "train_tfidf = transformer.fit_transform(train_counts)\n",
        "train_tfidf"
      ],
      "execution_count": 166,
      "outputs": [
        {
          "output_type": "execute_result",
          "data": {
            "text/plain": [
              "<50000x2672100 sparse matrix of type '<class 'numpy.float64'>'\n",
              "\twith 17199800 stored elements in Compressed Sparse Row format>"
            ]
          },
          "metadata": {
            "tags": []
          },
          "execution_count": 166
        }
      ]
    },
    {
      "cell_type": "code",
      "metadata": {
        "id": "I1HQZKVwgAkB",
        "colab_type": "code",
        "colab": {}
      },
      "source": [
        "from sklearn.model_selection import train_test_split\n",
        "#  If train-test size is not initialized, test_size will be set to 0.25 and train_set = 1-test_size\n",
        "\n",
        "X_train, X_test, y_train, y_test = train_test_split(train_tfidf, targets, random_state=0)"
      ],
      "execution_count": 168,
      "outputs": []
    },
    {
      "cell_type": "code",
      "metadata": {
        "id": "78QeazkJgMmf",
        "colab_type": "code",
        "colab": {}
      },
      "source": [
        "X_train = X_train[:12500]\n",
        "y_train = y_train[:12500]\n",
        "X_test = X_test[:12500]\n",
        "y_test = y_test[:12500]"
      ],
      "execution_count": 169,
      "outputs": []
    },
    {
      "cell_type": "code",
      "metadata": {
        "id": "CbuqYojigNpt",
        "colab_type": "code",
        "colab": {
          "base_uri": "https://localhost:8080/",
          "height": 85
        },
        "outputId": "7b4b718f-fa98-4185-a2f6-1e3af0a87721"
      },
      "source": [
        "print(\"X_train shape:\", X_train.shape)\n",
        "print(\"y_train shape:\", y_train.shape)\n",
        "print(\"X_test shape:\", X_test.shape)\n",
        "print(\"y_test shape:\", y_test.shape)\n",
        "X_train?"
      ],
      "execution_count": 170,
      "outputs": [
        {
          "output_type": "stream",
          "text": [
            "X_train shape: (12500, 2672100)\n",
            "y_train shape: (12500,)\n",
            "X_test shape: (12500, 2672100)\n",
            "y_test shape: (12500,)\n"
          ],
          "name": "stdout"
        }
      ]
    },
    {
      "cell_type": "code",
      "metadata": {
        "id": "fvM7OprzgUbW",
        "colab_type": "code",
        "colab": {
          "base_uri": "https://localhost:8080/",
          "height": 51
        },
        "outputId": "a934a955-05d6-4a48-9f1b-3e9b7fe889aa"
      },
      "source": [
        "from sklearn.ensemble import RandomForestClassifier, ExtraTreesClassifier,AdaBoostClassifier\n",
        "Extr = ExtraTreesClassifier(n_estimators=5,n_jobs=4)\n",
        "Extr.fit(X_train, y_train)\n",
        "\n",
        "print('Accuracy of ExtraTrees classifier on train set: {:.2f}'.format(Extr.score(X_train, y_train)))\n",
        "\n",
        "print('Accuracy of ExtraTrees classifier on test set: {:.2f}'.format(Extr.score(X_test, y_test)))"
      ],
      "execution_count": 171,
      "outputs": [
        {
          "output_type": "stream",
          "text": [
            "Accuracy of ExtraTrees classifier on train set: 1.00\n",
            "Accuracy of ExtraTrees classifier on test set: 0.71\n"
          ],
          "name": "stdout"
        }
      ]
    },
    {
      "cell_type": "code",
      "metadata": {
        "id": "q5CgosuagvJK",
        "colab_type": "code",
        "colab": {
          "base_uri": "https://localhost:8080/",
          "height": 51
        },
        "outputId": "51e3e460-8005-4f4f-96e8-2f410e10138f"
      },
      "source": [
        "Adab= AdaBoostClassifier(DecisionTreeClassifier(max_depth=3),n_estimators=5)\n",
        "Adab.fit(X_train, y_train)\n",
        "\n",
        "print('Accuracy of Adaboost classifier on training set: {:.2f}'.format(Adab.score(X_train, y_train)))\n",
        "\n",
        "print('Accuracy of Adaboost classifier on test set: {:.2f}'.format(Adab.score(X_test, y_test)))\n"
      ],
      "execution_count": 172,
      "outputs": [
        {
          "output_type": "stream",
          "text": [
            "Accuracy of Adaboost classifier on training set: 0.76\n",
            "Accuracy of Adaboost classifier on test set: 0.73\n"
          ],
          "name": "stdout"
        }
      ]
    },
    {
      "cell_type": "code",
      "metadata": {
        "id": "BR1Jkq63g1XQ",
        "colab_type": "code",
        "colab": {
          "base_uri": "https://localhost:8080/",
          "height": 51
        },
        "outputId": "2598c959-ef57-4d3d-b698-af45b1bd2810"
      },
      "source": [
        "RandomFC= RandomForestClassifier(n_estimators=5)\n",
        "RandomFC.fit(X_train, y_train)\n",
        "\n",
        "print('Accuracy of randomforest classifier on training set: {:.2f}'.format(RandomFC.score(X_train, y_train)))\n",
        "\n",
        "print('Accuracy of randomforest classifier on test set: {:.2f}'.format(RandomFC.score(X_test, y_test)))\n",
        "\n"
      ],
      "execution_count": 173,
      "outputs": [
        {
          "output_type": "stream",
          "text": [
            "Accuracy of randomforest classifier on training set: 0.97\n",
            "Accuracy of randomforest classifier on test set: 0.67\n"
          ],
          "name": "stdout"
        }
      ]
    },
    {
      "cell_type": "code",
      "metadata": {
        "id": "gSh138eMg38N",
        "colab_type": "code",
        "colab": {
          "base_uri": "https://localhost:8080/",
          "height": 51
        },
        "outputId": "3904efd0-c3a6-4c57-ee1d-4e81a31a990a"
      },
      "source": [
        "from sklearn.naive_bayes import MultinomialNB\n",
        "\n",
        "NB = MultinomialNB()\n",
        "NB.fit(X_train, y_train)\n",
        "\n",
        "print('Accuracy of NB  classifier on training set: {:.2f}'.format(NB.score(X_train, y_train)))\n",
        "\n",
        "print('Accuracy of NB classifier on test set: {:.2f}'.format(NB.score(X_test, y_test)))\n"
      ],
      "execution_count": 174,
      "outputs": [
        {
          "output_type": "stream",
          "text": [
            "Accuracy of NB  classifier on training set: 0.99\n",
            "Accuracy of NB classifier on test set: 0.87\n"
          ],
          "name": "stdout"
        }
      ]
    },
    {
      "cell_type": "code",
      "metadata": {
        "id": "xlC9QxzLhDc4",
        "colab_type": "code",
        "colab": {
          "base_uri": "https://localhost:8080/",
          "height": 51
        },
        "outputId": "00d8e7d6-eefc-414d-d429-7452514ab8ed"
      },
      "source": [
        "from sklearn.linear_model import LogisticRegression\n",
        "\n",
        "logreg = LogisticRegression(C=1e5)\n",
        "logreg.fit(X_train, y_train)\n",
        "\n",
        "print('Accuracy of Logreg classifier on training set: {:.2f}'.format(logreg.score(X_train, y_train)))\n",
        "\n",
        "print('Accuracy of Logreg classifier on test set: {:.2f}'.format(logreg.score(X_test, y_test)))"
      ],
      "execution_count": 175,
      "outputs": [
        {
          "output_type": "stream",
          "text": [
            "Accuracy of Logreg classifier on training set: 1.00\n",
            "Accuracy of Logreg classifier on test set: 0.89\n"
          ],
          "name": "stdout"
        }
      ]
    },
    {
      "cell_type": "code",
      "metadata": {
        "id": "f1YSyi4-hKU3",
        "colab_type": "code",
        "colab": {
          "base_uri": "https://localhost:8080/",
          "height": 34
        },
        "outputId": "1e15241e-f34a-4df4-8ae3-dc0edd737ace"
      },
      "source": [
        "# Use score method to get accuracy of model\n",
        "score = logreg.score(X_test, y_test)\n",
        "print(score)"
      ],
      "execution_count": 176,
      "outputs": [
        {
          "output_type": "stream",
          "text": [
            "0.89328\n"
          ],
          "name": "stdout"
        }
      ]
    },
    {
      "cell_type": "code",
      "metadata": {
        "id": "2IFvnTcehMu1",
        "colab_type": "code",
        "colab": {
          "base_uri": "https://localhost:8080/",
          "height": 34
        },
        "outputId": "ffcc2139-3788-4f6f-c5e7-ea2aeca4ff4a"
      },
      "source": [
        "# Predict and calculate accuracy\n",
        "from sklearn.metrics import accuracy_score\n",
        "\n",
        "predictions = logreg.predict(X_test)\n",
        "score=accuracy_score(y_test,predictions)\n",
        "print(f'Accuracy: {round(score*100,2)}%')"
      ],
      "execution_count": 177,
      "outputs": [
        {
          "output_type": "stream",
          "text": [
            "Accuracy: 89.33%\n"
          ],
          "name": "stdout"
        }
      ]
    },
    {
      "cell_type": "markdown",
      "metadata": {
        "id": "Q7aXzWaKhT0M",
        "colab_type": "text"
      },
      "source": [
        "**Confusion Matrix**\n",
        "\n",
        "A confusion matrix is a table that is often used to describe the performance of a classification model (or “classifier”) on a set of test data for which the true values are known. In this section, I am just showing two python packages (Seaborn and Matplotlib) for making confusion matrices more understandable and visually appealing.\n",
        "\n",
        "The confusion matrix below is not visually super informative or visually appealing."
      ]
    },
    {
      "cell_type": "code",
      "metadata": {
        "id": "FjeJg_JnhRZl",
        "colab_type": "code",
        "colab": {
          "base_uri": "https://localhost:8080/",
          "height": 51
        },
        "outputId": "22428362-9d93-49a2-968a-e14a2035aac8"
      },
      "source": [
        "from sklearn import metrics\n",
        "\n",
        "CM = metrics.confusion_matrix(y_test, predictions)\n",
        "print(CM)"
      ],
      "execution_count": 178,
      "outputs": [
        {
          "output_type": "stream",
          "text": [
            "[[5615  676]\n",
            " [ 658 5551]]\n"
          ],
          "name": "stdout"
        }
      ]
    },
    {
      "cell_type": "markdown",
      "metadata": {
        "id": "XtTitvZnhYat",
        "colab_type": "text"
      },
      "source": [
        "Method 1 (Seaborn)\n",
        "As you can see below, this method produces a more understandable and visually readable confusion matrix using seaborn."
      ]
    },
    {
      "cell_type": "code",
      "metadata": {
        "id": "80imyBVrhZpV",
        "colab_type": "code",
        "colab": {
          "base_uri": "https://localhost:8080/",
          "height": 520
        },
        "outputId": "f357abd2-afc1-4f52-8187-bcf91e92d068"
      },
      "source": [
        "plt.figure(figsize=(9,9))\n",
        "sns.heatmap(CM, annot=True, fmt=\".3f\", linewidths=.5, square = True, cmap = 'Blues_r');\n",
        "plt.ylabel('Actual label');\n",
        "plt.xlabel('Predicted label');\n",
        "all_sample_title = 'Accuracy Score: {0}'.format(score)\n",
        "plt.title(all_sample_title, size = 15);"
      ],
      "execution_count": 179,
      "outputs": [
        {
          "output_type": "display_data",
          "data": {
            "image/png": "[encoded data removed]",
            "text/plain": [
              "<Figure size 648x648 with 2 Axes>"
            ]
          },
          "metadata": {
            "tags": [],
            "needs_background": "light"
          }
        }
      ]
    },
    {
      "cell_type": "markdown",
      "metadata": {
        "id": "ipiMYWaMhfve",
        "colab_type": "text"
      },
      "source": [
        "### From the confusion matrix we can make the following conclusions:\n",
        "\n",
        "\n",
        "1. Our model successfully predicted 5615 positives\n",
        "2. Our model successfully predicted 5651 negatives.\n",
        "3. Our model predicted 676 false positives\n",
        "4. Our model predicted 658 false negatives\n",
        "\n",
        "\n"
      ]
    },
    {
      "cell_type": "code",
      "metadata": {
        "id": "fDLzTXT9hi11",
        "colab_type": "code",
        "colab": {}
      },
      "source": [
        "logreg.fit(train_counts, targets)\n",
        "\n",
        "test_counts = count_vectorizer.transform(test['total'].values)\n",
        "test_pred = logreg.predict(test_counts)\n",
        "\n",
        "pred=pd.DataFrame(test_pred, columns=['test_label'])\n",
        "pred['id']=test['id']\n",
        "pred.groupby('test_label').count()"
      ],
      "execution_count": null,
      "outputs": []
    },
    {
      "cell_type": "markdown",
      "metadata": {
        "id": "iP2leZbSeYkv",
        "colab_type": "text"
      },
      "source": [
        "#BOW \n",
        "![bow](http://uc-r.github.io/public/images/analytics/feature-engineering/bow-image.png)"
      ]
    },
    {
      "cell_type": "code",
      "metadata": {
        "id": "bfLSL7bcgq4F",
        "colab_type": "code",
        "colab": {}
      },
      "source": [
        ""
      ],
      "execution_count": null,
      "outputs": []
    },
    {
      "cell_type": "code",
      "metadata": {
        "id": "K5AKyEQdeLqu",
        "colab_type": "code",
        "colab": {
          "base_uri": "https://localhost:8080/",
          "height": 51
        },
        "outputId": "38afd376-0949-4138-af5d-645f6fdf5534"
      },
      "source": [
        "#Count vectorizer for bag of words\n",
        "cv=CountVectorizer(min_df=0,max_df=1,binary=False,ngram_range=(1,3))\n",
        "#transformed train reviews\n",
        "cv_train_reviews=cv.fit_transform(train)\n",
        "#transformed test reviews\n",
        "cv_test_reviews=cv.transform(test)\n",
        "\n",
        "print('BOW_cv_train:',cv_train_reviews.shape)\n",
        "print('BOW_cv_test:',cv_test_reviews.shape)"
      ],
      "execution_count": 164,
      "outputs": [
        {
          "output_type": "stream",
          "text": [
            "BOW_cv_train: (1, 1)\n",
            "BOW_cv_test: (1, 1)\n"
          ],
          "name": "stdout"
        }
      ]
    },
    {
      "cell_type": "code",
      "metadata": {
        "id": "9xtgme5QefaP",
        "colab_type": "code",
        "colab": {}
      },
      "source": [
        ""
      ],
      "execution_count": null,
      "outputs": []
    },
    {
      "cell_type": "code",
      "metadata": {
        "id": "511XQjyXefYz",
        "colab_type": "code",
        "colab": {}
      },
      "source": [
        ""
      ],
      "execution_count": null,
      "outputs": []
    },
    {
      "cell_type": "code",
      "metadata": {
        "id": "1C7Bk09AeWcn",
        "colab_type": "code",
        "colab": {}
      },
      "source": [
        ""
      ],
      "execution_count": null,
      "outputs": []
    },
    {
      "cell_type": "code",
      "metadata": {
        "id": "H8Z_aFiXZAYY",
        "colab_type": "code",
        "colab": {
          "base_uri": "https://localhost:8080/",
          "height": 409
        },
        "outputId": "5897981e-6d10-4702-c3a2-256ffcdf1355"
      },
      "source": [
        "num_epochs = 100\n",
        "history_rand = model.fit(X_train, y_train, batch_size=batch_size, epochs=num_epochs,\n",
        "                         validation_data=(X_test, y_test), verbose=2)"
      ],
      "execution_count": 135,
      "outputs": [
        {
          "output_type": "error",
          "ename": "ValueError",
          "evalue": "ignored",
          "traceback": [
            "\u001b[0;31m---------------------------------------------------------------------------\u001b[0m",
            "\u001b[0;31mValueError\u001b[0m                                Traceback (most recent call last)",
            "\u001b[0;32m<ipython-input-135-202cbfebf9ee>\u001b[0m in \u001b[0;36m<module>\u001b[0;34m()\u001b[0m\n\u001b[1;32m      1\u001b[0m \u001b[0mnum_epochs\u001b[0m \u001b[0;34m=\u001b[0m \u001b[0;36m100\u001b[0m\u001b[0;34m\u001b[0m\u001b[0;34m\u001b[0m\u001b[0m\n\u001b[1;32m      2\u001b[0m history_rand = model.fit(X_train, y_train, batch_size=batch_size, epochs=num_epochs,\n\u001b[0;32m----> 3\u001b[0;31m                          validation_data=(X_test, y_test), verbose=2)\n\u001b[0m",
            "\u001b[0;32m/usr/local/lib/python3.6/dist-packages/tensorflow/python/keras/engine/training.py\u001b[0m in \u001b[0;36m_method_wrapper\u001b[0;34m(self, *args, **kwargs)\u001b[0m\n\u001b[1;32m    106\u001b[0m   \u001b[0;32mdef\u001b[0m \u001b[0m_method_wrapper\u001b[0m\u001b[0;34m(\u001b[0m\u001b[0mself\u001b[0m\u001b[0;34m,\u001b[0m \u001b[0;34m*\u001b[0m\u001b[0margs\u001b[0m\u001b[0;34m,\u001b[0m \u001b[0;34m**\u001b[0m\u001b[0mkwargs\u001b[0m\u001b[0;34m)\u001b[0m\u001b[0;34m:\u001b[0m\u001b[0;34m\u001b[0m\u001b[0;34m\u001b[0m\u001b[0m\n\u001b[1;32m    107\u001b[0m     \u001b[0;32mif\u001b[0m \u001b[0;32mnot\u001b[0m \u001b[0mself\u001b[0m\u001b[0;34m.\u001b[0m\u001b[0m_in_multi_worker_mode\u001b[0m\u001b[0;34m(\u001b[0m\u001b[0;34m)\u001b[0m\u001b[0;34m:\u001b[0m  \u001b[0;31m# pylint: disable=protected-access\u001b[0m\u001b[0;34m\u001b[0m\u001b[0;34m\u001b[0m\u001b[0m\n\u001b[0;32m--> 108\u001b[0;31m       \u001b[0;32mreturn\u001b[0m \u001b[0mmethod\u001b[0m\u001b[0;34m(\u001b[0m\u001b[0mself\u001b[0m\u001b[0;34m,\u001b[0m \u001b[0;34m*\u001b[0m\u001b[0margs\u001b[0m\u001b[0;34m,\u001b[0m \u001b[0;34m**\u001b[0m\u001b[0mkwargs\u001b[0m\u001b[0;34m)\u001b[0m\u001b[0;34m\u001b[0m\u001b[0;34m\u001b[0m\u001b[0m\n\u001b[0m\u001b[1;32m    109\u001b[0m \u001b[0;34m\u001b[0m\u001b[0m\n\u001b[1;32m    110\u001b[0m     \u001b[0;31m# Running inside `run_distribute_coordinator` already.\u001b[0m\u001b[0;34m\u001b[0m\u001b[0;34m\u001b[0m\u001b[0;34m\u001b[0m\u001b[0m\n",
            "\u001b[0;32m/usr/local/lib/python3.6/dist-packages/tensorflow/python/keras/engine/training.py\u001b[0m in \u001b[0;36mfit\u001b[0;34m(self, x, y, batch_size, epochs, verbose, callbacks, validation_split, validation_data, shuffle, class_weight, sample_weight, initial_epoch, steps_per_epoch, validation_steps, validation_batch_size, validation_freq, max_queue_size, workers, use_multiprocessing)\u001b[0m\n\u001b[1;32m   1061\u001b[0m           \u001b[0muse_multiprocessing\u001b[0m\u001b[0;34m=\u001b[0m\u001b[0muse_multiprocessing\u001b[0m\u001b[0;34m,\u001b[0m\u001b[0;34m\u001b[0m\u001b[0;34m\u001b[0m\u001b[0m\n\u001b[1;32m   1062\u001b[0m           \u001b[0mmodel\u001b[0m\u001b[0;34m=\u001b[0m\u001b[0mself\u001b[0m\u001b[0;34m,\u001b[0m\u001b[0;34m\u001b[0m\u001b[0;34m\u001b[0m\u001b[0m\n\u001b[0;32m-> 1063\u001b[0;31m           steps_per_execution=self._steps_per_execution)\n\u001b[0m\u001b[1;32m   1064\u001b[0m \u001b[0;34m\u001b[0m\u001b[0m\n\u001b[1;32m   1065\u001b[0m       \u001b[0;31m# Container that configures and calls `tf.keras.Callback`s.\u001b[0m\u001b[0;34m\u001b[0m\u001b[0;34m\u001b[0m\u001b[0;34m\u001b[0m\u001b[0m\n",
            "\u001b[0;32m/usr/local/lib/python3.6/dist-packages/tensorflow/python/keras/engine/data_adapter.py\u001b[0m in \u001b[0;36m__init__\u001b[0;34m(self, x, y, sample_weight, batch_size, steps_per_epoch, initial_epoch, epochs, shuffle, class_weight, max_queue_size, workers, use_multiprocessing, model, steps_per_execution)\u001b[0m\n\u001b[1;32m   1115\u001b[0m         \u001b[0muse_multiprocessing\u001b[0m\u001b[0;34m=\u001b[0m\u001b[0muse_multiprocessing\u001b[0m\u001b[0;34m,\u001b[0m\u001b[0;34m\u001b[0m\u001b[0;34m\u001b[0m\u001b[0m\n\u001b[1;32m   1116\u001b[0m         \u001b[0mdistribution_strategy\u001b[0m\u001b[0;34m=\u001b[0m\u001b[0mds_context\u001b[0m\u001b[0;34m.\u001b[0m\u001b[0mget_strategy\u001b[0m\u001b[0;34m(\u001b[0m\u001b[0;34m)\u001b[0m\u001b[0;34m,\u001b[0m\u001b[0;34m\u001b[0m\u001b[0;34m\u001b[0m\u001b[0m\n\u001b[0;32m-> 1117\u001b[0;31m         model=model)\n\u001b[0m\u001b[1;32m   1118\u001b[0m \u001b[0;34m\u001b[0m\u001b[0m\n\u001b[1;32m   1119\u001b[0m     \u001b[0mstrategy\u001b[0m \u001b[0;34m=\u001b[0m \u001b[0mds_context\u001b[0m\u001b[0;34m.\u001b[0m\u001b[0mget_strategy\u001b[0m\u001b[0;34m(\u001b[0m\u001b[0;34m)\u001b[0m\u001b[0;34m\u001b[0m\u001b[0;34m\u001b[0m\u001b[0m\n",
            "\u001b[0;32m/usr/local/lib/python3.6/dist-packages/tensorflow/python/keras/engine/data_adapter.py\u001b[0m in \u001b[0;36m__init__\u001b[0;34m(self, x, y, sample_weights, sample_weight_modes, batch_size, epochs, steps, shuffle, **kwargs)\u001b[0m\n\u001b[1;32m    280\u001b[0m             label, \", \".join(str(i.shape[0]) for i in nest.flatten(data)))\n\u001b[1;32m    281\u001b[0m       \u001b[0mmsg\u001b[0m \u001b[0;34m+=\u001b[0m \u001b[0;34m\"Please provide data which shares the same first dimension.\"\u001b[0m\u001b[0;34m\u001b[0m\u001b[0;34m\u001b[0m\u001b[0m\n\u001b[0;32m--> 282\u001b[0;31m       \u001b[0;32mraise\u001b[0m \u001b[0mValueError\u001b[0m\u001b[0;34m(\u001b[0m\u001b[0mmsg\u001b[0m\u001b[0;34m)\u001b[0m\u001b[0;34m\u001b[0m\u001b[0;34m\u001b[0m\u001b[0m\n\u001b[0m\u001b[1;32m    283\u001b[0m     \u001b[0mnum_samples\u001b[0m \u001b[0;34m=\u001b[0m \u001b[0mnum_samples\u001b[0m\u001b[0;34m.\u001b[0m\u001b[0mpop\u001b[0m\u001b[0;34m(\u001b[0m\u001b[0;34m)\u001b[0m\u001b[0;34m\u001b[0m\u001b[0;34m\u001b[0m\u001b[0m\n\u001b[1;32m    284\u001b[0m \u001b[0;34m\u001b[0m\u001b[0m\n",
            "\u001b[0;31mValueError\u001b[0m: Data cardinality is ambiguous:\n  x sizes: 1\n  y sizes: 12500\nPlease provide data which shares the same first dimension."
          ]
        }
      ]
    },
    {
      "cell_type": "code",
      "metadata": {
        "id": "JKgogKZVeWnK",
        "colab_type": "code",
        "colab": {}
      },
      "source": [
        ""
      ],
      "execution_count": null,
      "outputs": []
    },
    {
      "cell_type": "code",
      "metadata": {
        "id": "4x4nl-17eWqM",
        "colab_type": "code",
        "colab": {}
      },
      "source": [
        ""
      ],
      "execution_count": null,
      "outputs": []
    },
    {
      "cell_type": "code",
      "metadata": {
        "id": "D1uAQjcUeWvt",
        "colab_type": "code",
        "colab": {}
      },
      "source": [
        ""
      ],
      "execution_count": null,
      "outputs": []
    },
    {
      "cell_type": "code",
      "metadata": {
        "id": "gaW7izJUeWtK",
        "colab_type": "code",
        "colab": {}
      },
      "source": [
        ""
      ],
      "execution_count": null,
      "outputs": []
    },
    {
      "cell_type": "code",
      "metadata": {
        "id": "k9sv7buPQ0NI",
        "colab_type": "code",
        "colab": {
          "base_uri": "https://localhost:8080/",
          "height": 409
        },
        "outputId": "9f173775-a08c-4e9b-dfda-c578c9371251"
      },
      "source": [
        "# Convolutional block\n",
        "conv_lstm_blocks = []\n",
        "\n",
        "for sz in filter_sizes:\n",
        "    conv = Convolution1D(filters=num_filters,\n",
        "                         kernel_size=sz,\n",
        "                         padding=\"valid\",\n",
        "                         activation=\"relu\",\n",
        "                         strides=1)(concatenated)\n",
        "    conv = MaxPooling1D(pool_size = sequence_length - sz + 1)(conv)\n",
        "    conv = Dropout(dropout_prob[1])(conv)\n",
        "    conv = BatchNormalization(input_shape = (sequence_length,))(conv)\n",
        "    #conv = Flatten()(conv)\n",
        "    conv = LSTM(units = 128, input_shape = (X_train.shape[1],), return_sequences= True)(conv)\n",
        "    #conv = Flatten()(conv)\n",
        "    conv_lstm_blocks.append(conv)\n",
        "    #conv = GlobalMaxPooling1D()(conv)\n",
        "    #conv_blocks.append(conv)\n",
        "\n",
        "concatenat = Concatenate()(conv_lstm_blocks) if len(conv_lstm_blocks) > 1 else conv_lstm_blocks[0]"
      ],
      "execution_count": 87,
      "outputs": [
        {
          "output_type": "error",
          "ename": "ValueError",
          "evalue": "ignored",
          "traceback": [
            "\u001b[0;31m---------------------------------------------------------------------------\u001b[0m",
            "\u001b[0;31mValueError\u001b[0m                                Traceback (most recent call last)",
            "\u001b[0;32m<ipython-input-87-7bf071eca46a>\u001b[0m in \u001b[0;36m<module>\u001b[0;34m()\u001b[0m\n\u001b[1;32m      7\u001b[0m                          \u001b[0mpadding\u001b[0m\u001b[0;34m=\u001b[0m\u001b[0;34m\"valid\"\u001b[0m\u001b[0;34m,\u001b[0m\u001b[0;34m\u001b[0m\u001b[0;34m\u001b[0m\u001b[0m\n\u001b[1;32m      8\u001b[0m                          \u001b[0mactivation\u001b[0m\u001b[0;34m=\u001b[0m\u001b[0;34m\"relu\"\u001b[0m\u001b[0;34m,\u001b[0m\u001b[0;34m\u001b[0m\u001b[0;34m\u001b[0m\u001b[0m\n\u001b[0;32m----> 9\u001b[0;31m                          strides=1)(concatenated)\n\u001b[0m\u001b[1;32m     10\u001b[0m     \u001b[0mconv\u001b[0m \u001b[0;34m=\u001b[0m \u001b[0mMaxPooling1D\u001b[0m\u001b[0;34m(\u001b[0m\u001b[0mpool_size\u001b[0m \u001b[0;34m=\u001b[0m \u001b[0msequence_length\u001b[0m \u001b[0;34m-\u001b[0m \u001b[0msz\u001b[0m \u001b[0;34m+\u001b[0m \u001b[0;36m1\u001b[0m\u001b[0;34m)\u001b[0m\u001b[0;34m(\u001b[0m\u001b[0mconv\u001b[0m\u001b[0;34m)\u001b[0m\u001b[0;34m\u001b[0m\u001b[0;34m\u001b[0m\u001b[0m\n\u001b[1;32m     11\u001b[0m     \u001b[0mconv\u001b[0m \u001b[0;34m=\u001b[0m \u001b[0mDropout\u001b[0m\u001b[0;34m(\u001b[0m\u001b[0mdropout_prob\u001b[0m\u001b[0;34m[\u001b[0m\u001b[0;36m1\u001b[0m\u001b[0;34m]\u001b[0m\u001b[0;34m)\u001b[0m\u001b[0;34m(\u001b[0m\u001b[0mconv\u001b[0m\u001b[0;34m)\u001b[0m\u001b[0;34m\u001b[0m\u001b[0;34m\u001b[0m\u001b[0m\n",
            "\u001b[0;32m/usr/local/lib/python3.6/dist-packages/tensorflow/python/keras/engine/base_layer.py\u001b[0m in \u001b[0;36m__call__\u001b[0;34m(self, *args, **kwargs)\u001b[0m\n\u001b[1;32m    924\u001b[0m     \u001b[0;32mif\u001b[0m \u001b[0m_in_functional_construction_mode\u001b[0m\u001b[0;34m(\u001b[0m\u001b[0mself\u001b[0m\u001b[0;34m,\u001b[0m \u001b[0minputs\u001b[0m\u001b[0;34m,\u001b[0m \u001b[0margs\u001b[0m\u001b[0;34m,\u001b[0m \u001b[0mkwargs\u001b[0m\u001b[0;34m,\u001b[0m \u001b[0minput_list\u001b[0m\u001b[0;34m)\u001b[0m\u001b[0;34m:\u001b[0m\u001b[0;34m\u001b[0m\u001b[0;34m\u001b[0m\u001b[0m\n\u001b[1;32m    925\u001b[0m       return self._functional_construction_call(inputs, args, kwargs,\n\u001b[0;32m--> 926\u001b[0;31m                                                 input_list)\n\u001b[0m\u001b[1;32m    927\u001b[0m \u001b[0;34m\u001b[0m\u001b[0m\n\u001b[1;32m    928\u001b[0m     \u001b[0;31m# Maintains info about the `Layer.call` stack.\u001b[0m\u001b[0;34m\u001b[0m\u001b[0;34m\u001b[0m\u001b[0;34m\u001b[0m\u001b[0m\n",
            "\u001b[0;32m/usr/local/lib/python3.6/dist-packages/tensorflow/python/keras/engine/base_layer.py\u001b[0m in \u001b[0;36m_functional_construction_call\u001b[0;34m(self, inputs, args, kwargs, input_list)\u001b[0m\n\u001b[1;32m   1090\u001b[0m       \u001b[0;31m# TODO(reedwm): We should assert input compatibility after the inputs\u001b[0m\u001b[0;34m\u001b[0m\u001b[0;34m\u001b[0m\u001b[0;34m\u001b[0m\u001b[0m\n\u001b[1;32m   1091\u001b[0m       \u001b[0;31m# are casted, not before.\u001b[0m\u001b[0;34m\u001b[0m\u001b[0;34m\u001b[0m\u001b[0;34m\u001b[0m\u001b[0m\n\u001b[0;32m-> 1092\u001b[0;31m       \u001b[0minput_spec\u001b[0m\u001b[0;34m.\u001b[0m\u001b[0massert_input_compatibility\u001b[0m\u001b[0;34m(\u001b[0m\u001b[0mself\u001b[0m\u001b[0;34m.\u001b[0m\u001b[0minput_spec\u001b[0m\u001b[0;34m,\u001b[0m \u001b[0minputs\u001b[0m\u001b[0;34m,\u001b[0m \u001b[0mself\u001b[0m\u001b[0;34m.\u001b[0m\u001b[0mname\u001b[0m\u001b[0;34m)\u001b[0m\u001b[0;34m\u001b[0m\u001b[0;34m\u001b[0m\u001b[0m\n\u001b[0m\u001b[1;32m   1093\u001b[0m       \u001b[0mgraph\u001b[0m \u001b[0;34m=\u001b[0m \u001b[0mbackend\u001b[0m\u001b[0;34m.\u001b[0m\u001b[0mget_graph\u001b[0m\u001b[0;34m(\u001b[0m\u001b[0;34m)\u001b[0m\u001b[0;34m\u001b[0m\u001b[0;34m\u001b[0m\u001b[0m\n\u001b[1;32m   1094\u001b[0m       \u001b[0;31m# Use `self._name_scope()` to avoid auto-incrementing the name.\u001b[0m\u001b[0;34m\u001b[0m\u001b[0;34m\u001b[0m\u001b[0;34m\u001b[0m\u001b[0m\n",
            "\u001b[0;32m/usr/local/lib/python3.6/dist-packages/tensorflow/python/keras/engine/input_spec.py\u001b[0m in \u001b[0;36massert_input_compatibility\u001b[0;34m(input_spec, inputs, layer_name)\u001b[0m\n\u001b[1;32m    194\u001b[0m                          \u001b[0;34m', found ndim='\u001b[0m \u001b[0;34m+\u001b[0m \u001b[0mstr\u001b[0m\u001b[0;34m(\u001b[0m\u001b[0mndim\u001b[0m\u001b[0;34m)\u001b[0m \u001b[0;34m+\u001b[0m\u001b[0;34m\u001b[0m\u001b[0;34m\u001b[0m\u001b[0m\n\u001b[1;32m    195\u001b[0m                          \u001b[0;34m'. Full shape received: '\u001b[0m \u001b[0;34m+\u001b[0m\u001b[0;34m\u001b[0m\u001b[0;34m\u001b[0m\u001b[0m\n\u001b[0;32m--> 196\u001b[0;31m                          str(x.shape.as_list()))\n\u001b[0m\u001b[1;32m    197\u001b[0m     \u001b[0;31m# Check dtype.\u001b[0m\u001b[0;34m\u001b[0m\u001b[0;34m\u001b[0m\u001b[0;34m\u001b[0m\u001b[0m\n\u001b[1;32m    198\u001b[0m     \u001b[0;32mif\u001b[0m \u001b[0mspec\u001b[0m\u001b[0;34m.\u001b[0m\u001b[0mdtype\u001b[0m \u001b[0;32mis\u001b[0m \u001b[0;32mnot\u001b[0m \u001b[0;32mNone\u001b[0m\u001b[0;34m:\u001b[0m\u001b[0;34m\u001b[0m\u001b[0;34m\u001b[0m\u001b[0m\n",
            "\u001b[0;31mValueError\u001b[0m: Input 0 of layer conv1d is incompatible with the layer: : expected min_ndim=3, found ndim=2. Full shape received: [None, 332]"
          ]
        }
      ]
    },
    {
      "cell_type": "code",
      "metadata": {
        "id": "zXtHeafXeUUg",
        "colab_type": "code",
        "colab": {}
      },
      "source": [
        ""
      ],
      "execution_count": null,
      "outputs": []
    },
    {
      "cell_type": "code",
      "metadata": {
        "id": "wmfIWjJVQzk8",
        "colab_type": "code",
        "colab": {}
      },
      "source": [
        ""
      ],
      "execution_count": null,
      "outputs": []
    },
    {
      "cell_type": "code",
      "metadata": {
        "id": "0a1pFA6kRX1d",
        "colab_type": "code",
        "colab": {}
      },
      "source": [
        ""
      ],
      "execution_count": null,
      "outputs": []
    },
    {
      "cell_type": "code",
      "metadata": {
        "id": "GCOuIGvQ4Ijg",
        "colab_type": "code",
        "colab": {}
      },
      "source": [
        "transformer = TfidfTransformer(smooth_idf=False)\n",
        "count_vectorizer = CountVectorizer(ngram_range=(1, 2))"
      ],
      "execution_count": null,
      "outputs": []
    },
    {
      "cell_type": "code",
      "metadata": {
        "id": "06mPpLjC5nBg",
        "colab_type": "code",
        "colab": {}
      },
      "source": [
        "# fit train data to the count vectorizer\n",
        "train_counts = count_vectorizer.fit_transform(train['review'].values)\n",
        "\n",
        "#fit the ngrams count to the tfidf transformers\n",
        "train_tfidf = transformer.fit_transform(train_counts)\n",
        "train_tfidf"
      ],
      "execution_count": null,
      "outputs": []
    },
    {
      "cell_type": "markdown",
      "metadata": {
        "id": "4QxVuK0JwS4B",
        "colab_type": "text"
      },
      "source": [
        "#BOW"
      ]
    },
    {
      "cell_type": "code",
      "metadata": {
        "id": "jXL-Z0DuM_zk",
        "colab_type": "code",
        "colab": {}
      },
      "source": [
        "#Count vectorizer for bag of words\n",
        "cv=CountVectorizer(min_df=0,max_df=1,binary=False,ngram_range=(1,3))\n",
        "#transformed train reviews\n",
        "cv_train_reviews=cv.fit_transform(norm_train_reviews)\n",
        "#transformed test reviews\n",
        "cv_test_reviews=cv.transform(norm_test_reviews)\n",
        "\n",
        "print('BOW_cv_train:',cv_train_reviews.shape)\n",
        "print('BOW_cv_test:',cv_test_reviews.shape)\n",
        "#vocab=cv.get_feature_names()-toget feature names"
      ],
      "execution_count": null,
      "outputs": []
    },
    {
      "cell_type": "code",
      "metadata": {
        "id": "4wn0qkqLqC-3",
        "colab_type": "code",
        "colab": {}
      },
      "source": [
        ""
      ],
      "execution_count": null,
      "outputs": []
    }
  ]
}