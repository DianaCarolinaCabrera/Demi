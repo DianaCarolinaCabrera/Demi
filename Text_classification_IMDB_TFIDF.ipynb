{
  "nbformat": 4,
  "nbformat_minor": 0,
  "metadata": {
    "colab": {
      "name": "Text classification IMDB - TFIDF.ipynb",
      "provenance": [],
      "authorship_tag": "ABX9TyPntAF/kodqQeCCMBsdveln",
      "include_colab_link": true
    },
    "kernelspec": {
      "name": "python3",
      "display_name": "Python 3"
    },
    "accelerator": "GPU"
  },
  "cells": [
    {
      "cell_type": "markdown",
      "metadata": {
        "id": "view-in-github",
        "colab_type": "text"
      },
      "source": [
        "<a href=\"https://colab.research.google.com/github/DianaCarolinaCabrera/DianaCarolinaCabrera.github.io/blob/master/Text_classification_IMDB_TFIDF.ipynb\" target=\"_parent\"><img src=\"https://colab.research.google.com/assets/colab-badge.svg\" alt=\"Open In Colab\"/></a>"
      ]
    },
    {
      "cell_type": "markdown",
      "metadata": {
        "id": "ULLyDuqUg3zg",
        "colab_type": "text"
      },
      "source": [
        "# Diana Carolina Cabrera Torres\n",
        "* Mechatronics Engineer\n",
        "* Master student Systems and Computing Engineering on Research modality\n",
        "* Passionate About Data Science And Quantum Computing\n",
        "\n",
        "# First challenge Machine Learning on text classification TFIDF\n",
        "---"
      ]
    },
    {
      "cell_type": "markdown",
      "metadata": {
        "id": "Y0yGxcc_hHvu",
        "colab_type": "text"
      },
      "source": [
        "Durante las vacaciones estuve participando en WWC Data Science Community como asistente, en donde, aprendí y reforce conceptos de procesamiento de lenguaje natural, algunas imagenes de TFIDF son tomadas de notebooks de la comunidad."
      ]
    },
    {
      "cell_type": "markdown",
      "metadata": {
        "id": "kiSSWDudgfSA",
        "colab_type": "text"
      },
      "source": [
        "### **Reminder: TF-IDF stands for “Term Frequency — Inverse Data Frequency”.** \n",
        "\n",
        "- Term Frequency (TF): gives us the frequency of the word in each document in the corpus. It is the ratio of number of times the word appears in a document compared to the total number of words in that document. It increases as the number of occurrences of that word within the document increases. Each document has its own tf. \n",
        "\n",
        "![TF](https://cdn-media-1.freecodecamp.org/images/1*HM0Vcdrx2RApOyjp_ZeW_Q.png)\n",
        "\n",
        "\n",
        "- Inverse Data Frequency (idf): used to calculate the weight of rare words across all documents in the corpus. The words that occur rarely in the corpus have a high IDF score. It is given by the equation below. \n",
        "\n",
        "![IDF](https://cdn-media-1.freecodecamp.org/images/1*A5YGwFpcTd0YTCdgoiHFUw.png)"
      ]
    },
    {
      "cell_type": "markdown",
      "metadata": {
        "id": "eUdtZdaGgtMh",
        "colab_type": "text"
      },
      "source": [
        "Combining these two we come up with the TF-IDF score (w) for a word in a document in the corpus. It is the product of tf and idf: \n",
        "\n",
        "![TF-IDF formula](https://cdn-media-1.freecodecamp.org/images/1*nSqHXwOIJ2fa_EFLTh5KYw.png)"
      ]
    },
    {
      "cell_type": "code",
      "metadata": {
        "id": "UO96sJu4gSJT",
        "colab_type": "code",
        "colab": {}
      },
      "source": [
        ""
      ],
      "execution_count": null,
      "outputs": []
    }
  ]
}