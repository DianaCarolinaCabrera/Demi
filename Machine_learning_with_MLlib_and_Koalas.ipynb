{
  "nbformat": 4,
  "nbformat_minor": 0,
  "metadata": {
    "colab": {
      "name": "Machine_learning with MLlib and Koalas.ipynb",
      "provenance": [],
      "authorship_tag": "ABX9TyPCCv2SeLb6ih/zGPSCnxOD",
      "include_colab_link": true
    },
    "kernelspec": {
      "name": "python3",
      "display_name": "Python 3"
    }
  },
  "cells": [
    {
      "cell_type": "markdown",
      "metadata": {
        "id": "view-in-github",
        "colab_type": "text"
      },
      "source": [
        "<a href=\"https://colab.research.google.com/github/DianaCarolinaCabrera/DemiCabrera.github.io/blob/master/Machine_learning_with_MLlib_and_Koalas.ipynb\" target=\"_parent\"><img src=\"https://colab.research.google.com/assets/colab-badge.svg\" alt=\"Open In Colab\"/></a>"
      ]
    },
    {
      "cell_type": "markdown",
      "metadata": {
        "id": "jFH_jJLrlPso",
        "colab_type": "text"
      },
      "source": [
        "<img src=\"https://github.com/jcestevezc/Machine-Learning-Big-Data/blob/master/Machine%20Learning%20on%20Spark/ASB.jpeg?raw=true\" width=\"1000\"> \n",
        "\n",
        "[<img src=\"https://github.githubassets.com/images/modules/logos_page/GitHub-Mark.png\" width=\"20\">](https://github.com/DianaCarolinaCabrera)\n",
        "[<img src=\"https://image.flaticon.com/icons/svg/174/174857.svg\" width=\"20\">]() **Diana Carolina Cabrera Torres**\n",
        "* Mechatronics Engineer\n",
        "* Master student Systems and Computing Engineering on Research modality\n",
        "* Passionate About Data Science And Quantum\n",
        "\n",
        "# First challenge Machine Learning on Spark\n",
        "---"
      ]
    },
    {
      "cell_type": "code",
      "metadata": {
        "id": "YjD0wrSGj8Py",
        "colab_type": "code",
        "colab": {}
      },
      "source": [
        ""
      ],
      "execution_count": null,
      "outputs": []
    }
  ]
}